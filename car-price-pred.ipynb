{
 "cells": [
  {
   "cell_type": "markdown",
   "id": "39aa54fa",
   "metadata": {
    "papermill": {
     "duration": 0.012313,
     "end_time": "2023-04-30T13:47:25.119120",
     "exception": false,
     "start_time": "2023-04-30T13:47:25.106807",
     "status": "completed"
    },
    "tags": []
   },
   "source": [
    "# **Setting up the environment**"
   ]
  },
  {
   "cell_type": "code",
   "execution_count": 1,
   "id": "871087a4",
   "metadata": {
    "execution": {
     "iopub.execute_input": "2023-04-30T13:47:25.142378Z",
     "iopub.status.busy": "2023-04-30T13:47:25.141914Z",
     "iopub.status.idle": "2023-04-30T13:47:25.153911Z",
     "shell.execute_reply": "2023-04-30T13:47:25.152601Z"
    },
    "papermill": {
     "duration": 0.026813,
     "end_time": "2023-04-30T13:47:25.156755",
     "exception": false,
     "start_time": "2023-04-30T13:47:25.129942",
     "status": "completed"
    },
    "tags": []
   },
   "outputs": [],
   "source": [
    "import numpy as np\n",
    "import pandas as pd"
   ]
  },
  {
   "cell_type": "code",
   "execution_count": 2,
   "id": "020ac059",
   "metadata": {
    "execution": {
     "iopub.execute_input": "2023-04-30T13:47:25.180434Z",
     "iopub.status.busy": "2023-04-30T13:47:25.179912Z",
     "iopub.status.idle": "2023-04-30T13:47:25.213173Z",
     "shell.execute_reply": "2023-04-30T13:47:25.211579Z"
    },
    "papermill": {
     "duration": 0.048981,
     "end_time": "2023-04-30T13:47:25.216378",
     "exception": false,
     "start_time": "2023-04-30T13:47:25.167397",
     "status": "completed"
    },
    "tags": []
   },
   "outputs": [],
   "source": [
    "data = pd.read_csv(\"/kaggle/input/car-price-prediction/CarPrice_Assignment.csv\")"
   ]
  },
  {
   "cell_type": "code",
   "execution_count": 3,
   "id": "a4163918",
   "metadata": {
    "execution": {
     "iopub.execute_input": "2023-04-30T13:47:25.241037Z",
     "iopub.status.busy": "2023-04-30T13:47:25.240633Z",
     "iopub.status.idle": "2023-04-30T13:47:25.269270Z",
     "shell.execute_reply": "2023-04-30T13:47:25.267944Z"
    },
    "papermill": {
     "duration": 0.045742,
     "end_time": "2023-04-30T13:47:25.273046",
     "exception": false,
     "start_time": "2023-04-30T13:47:25.227304",
     "status": "completed"
    },
    "tags": []
   },
   "outputs": [
    {
     "name": "stdout",
     "output_type": "stream",
     "text": [
      "<class 'pandas.core.frame.DataFrame'>\n",
      "RangeIndex: 205 entries, 0 to 204\n",
      "Data columns (total 26 columns):\n",
      " #   Column            Non-Null Count  Dtype  \n",
      "---  ------            --------------  -----  \n",
      " 0   car_ID            205 non-null    int64  \n",
      " 1   symboling         205 non-null    int64  \n",
      " 2   CarName           205 non-null    object \n",
      " 3   fueltype          205 non-null    object \n",
      " 4   aspiration        205 non-null    object \n",
      " 5   doornumber        205 non-null    object \n",
      " 6   carbody           205 non-null    object \n",
      " 7   drivewheel        205 non-null    object \n",
      " 8   enginelocation    205 non-null    object \n",
      " 9   wheelbase         205 non-null    float64\n",
      " 10  carlength         205 non-null    float64\n",
      " 11  carwidth          205 non-null    float64\n",
      " 12  carheight         205 non-null    float64\n",
      " 13  curbweight        205 non-null    int64  \n",
      " 14  enginetype        205 non-null    object \n",
      " 15  cylindernumber    205 non-null    object \n",
      " 16  enginesize        205 non-null    int64  \n",
      " 17  fuelsystem        205 non-null    object \n",
      " 18  boreratio         205 non-null    float64\n",
      " 19  stroke            205 non-null    float64\n",
      " 20  compressionratio  205 non-null    float64\n",
      " 21  horsepower        205 non-null    int64  \n",
      " 22  peakrpm           205 non-null    int64  \n",
      " 23  citympg           205 non-null    int64  \n",
      " 24  highwaympg        205 non-null    int64  \n",
      " 25  price             205 non-null    float64\n",
      "dtypes: float64(8), int64(8), object(10)\n",
      "memory usage: 41.8+ KB\n"
     ]
    }
   ],
   "source": [
    "data.info()"
   ]
  },
  {
   "cell_type": "code",
   "execution_count": 4,
   "id": "776c8585",
   "metadata": {
    "execution": {
     "iopub.execute_input": "2023-04-30T13:47:25.295643Z",
     "iopub.status.busy": "2023-04-30T13:47:25.295245Z",
     "iopub.status.idle": "2023-04-30T13:47:25.336642Z",
     "shell.execute_reply": "2023-04-30T13:47:25.335396Z"
    },
    "papermill": {
     "duration": 0.055559,
     "end_time": "2023-04-30T13:47:25.339194",
     "exception": false,
     "start_time": "2023-04-30T13:47:25.283635",
     "status": "completed"
    },
    "tags": []
   },
   "outputs": [
    {
     "data": {
      "text/html": [
       "<div>\n",
       "<style scoped>\n",
       "    .dataframe tbody tr th:only-of-type {\n",
       "        vertical-align: middle;\n",
       "    }\n",
       "\n",
       "    .dataframe tbody tr th {\n",
       "        vertical-align: top;\n",
       "    }\n",
       "\n",
       "    .dataframe thead th {\n",
       "        text-align: right;\n",
       "    }\n",
       "</style>\n",
       "<table border=\"1\" class=\"dataframe\">\n",
       "  <thead>\n",
       "    <tr style=\"text-align: right;\">\n",
       "      <th></th>\n",
       "      <th>car_ID</th>\n",
       "      <th>symboling</th>\n",
       "      <th>CarName</th>\n",
       "      <th>fueltype</th>\n",
       "      <th>aspiration</th>\n",
       "      <th>doornumber</th>\n",
       "      <th>carbody</th>\n",
       "      <th>drivewheel</th>\n",
       "      <th>enginelocation</th>\n",
       "      <th>wheelbase</th>\n",
       "      <th>...</th>\n",
       "      <th>enginesize</th>\n",
       "      <th>fuelsystem</th>\n",
       "      <th>boreratio</th>\n",
       "      <th>stroke</th>\n",
       "      <th>compressionratio</th>\n",
       "      <th>horsepower</th>\n",
       "      <th>peakrpm</th>\n",
       "      <th>citympg</th>\n",
       "      <th>highwaympg</th>\n",
       "      <th>price</th>\n",
       "    </tr>\n",
       "  </thead>\n",
       "  <tbody>\n",
       "    <tr>\n",
       "      <th>0</th>\n",
       "      <td>1</td>\n",
       "      <td>3</td>\n",
       "      <td>alfa-romero giulia</td>\n",
       "      <td>gas</td>\n",
       "      <td>std</td>\n",
       "      <td>two</td>\n",
       "      <td>convertible</td>\n",
       "      <td>rwd</td>\n",
       "      <td>front</td>\n",
       "      <td>88.6</td>\n",
       "      <td>...</td>\n",
       "      <td>130</td>\n",
       "      <td>mpfi</td>\n",
       "      <td>3.47</td>\n",
       "      <td>2.68</td>\n",
       "      <td>9.0</td>\n",
       "      <td>111</td>\n",
       "      <td>5000</td>\n",
       "      <td>21</td>\n",
       "      <td>27</td>\n",
       "      <td>13495.0</td>\n",
       "    </tr>\n",
       "    <tr>\n",
       "      <th>1</th>\n",
       "      <td>2</td>\n",
       "      <td>3</td>\n",
       "      <td>alfa-romero stelvio</td>\n",
       "      <td>gas</td>\n",
       "      <td>std</td>\n",
       "      <td>two</td>\n",
       "      <td>convertible</td>\n",
       "      <td>rwd</td>\n",
       "      <td>front</td>\n",
       "      <td>88.6</td>\n",
       "      <td>...</td>\n",
       "      <td>130</td>\n",
       "      <td>mpfi</td>\n",
       "      <td>3.47</td>\n",
       "      <td>2.68</td>\n",
       "      <td>9.0</td>\n",
       "      <td>111</td>\n",
       "      <td>5000</td>\n",
       "      <td>21</td>\n",
       "      <td>27</td>\n",
       "      <td>16500.0</td>\n",
       "    </tr>\n",
       "    <tr>\n",
       "      <th>2</th>\n",
       "      <td>3</td>\n",
       "      <td>1</td>\n",
       "      <td>alfa-romero Quadrifoglio</td>\n",
       "      <td>gas</td>\n",
       "      <td>std</td>\n",
       "      <td>two</td>\n",
       "      <td>hatchback</td>\n",
       "      <td>rwd</td>\n",
       "      <td>front</td>\n",
       "      <td>94.5</td>\n",
       "      <td>...</td>\n",
       "      <td>152</td>\n",
       "      <td>mpfi</td>\n",
       "      <td>2.68</td>\n",
       "      <td>3.47</td>\n",
       "      <td>9.0</td>\n",
       "      <td>154</td>\n",
       "      <td>5000</td>\n",
       "      <td>19</td>\n",
       "      <td>26</td>\n",
       "      <td>16500.0</td>\n",
       "    </tr>\n",
       "    <tr>\n",
       "      <th>3</th>\n",
       "      <td>4</td>\n",
       "      <td>2</td>\n",
       "      <td>audi 100 ls</td>\n",
       "      <td>gas</td>\n",
       "      <td>std</td>\n",
       "      <td>four</td>\n",
       "      <td>sedan</td>\n",
       "      <td>fwd</td>\n",
       "      <td>front</td>\n",
       "      <td>99.8</td>\n",
       "      <td>...</td>\n",
       "      <td>109</td>\n",
       "      <td>mpfi</td>\n",
       "      <td>3.19</td>\n",
       "      <td>3.40</td>\n",
       "      <td>10.0</td>\n",
       "      <td>102</td>\n",
       "      <td>5500</td>\n",
       "      <td>24</td>\n",
       "      <td>30</td>\n",
       "      <td>13950.0</td>\n",
       "    </tr>\n",
       "    <tr>\n",
       "      <th>4</th>\n",
       "      <td>5</td>\n",
       "      <td>2</td>\n",
       "      <td>audi 100ls</td>\n",
       "      <td>gas</td>\n",
       "      <td>std</td>\n",
       "      <td>four</td>\n",
       "      <td>sedan</td>\n",
       "      <td>4wd</td>\n",
       "      <td>front</td>\n",
       "      <td>99.4</td>\n",
       "      <td>...</td>\n",
       "      <td>136</td>\n",
       "      <td>mpfi</td>\n",
       "      <td>3.19</td>\n",
       "      <td>3.40</td>\n",
       "      <td>8.0</td>\n",
       "      <td>115</td>\n",
       "      <td>5500</td>\n",
       "      <td>18</td>\n",
       "      <td>22</td>\n",
       "      <td>17450.0</td>\n",
       "    </tr>\n",
       "  </tbody>\n",
       "</table>\n",
       "<p>5 rows × 26 columns</p>\n",
       "</div>"
      ],
      "text/plain": [
       "   car_ID  symboling                   CarName fueltype aspiration doornumber  \\\n",
       "0       1          3        alfa-romero giulia      gas        std        two   \n",
       "1       2          3       alfa-romero stelvio      gas        std        two   \n",
       "2       3          1  alfa-romero Quadrifoglio      gas        std        two   \n",
       "3       4          2               audi 100 ls      gas        std       four   \n",
       "4       5          2                audi 100ls      gas        std       four   \n",
       "\n",
       "       carbody drivewheel enginelocation  wheelbase  ...  enginesize  \\\n",
       "0  convertible        rwd          front       88.6  ...         130   \n",
       "1  convertible        rwd          front       88.6  ...         130   \n",
       "2    hatchback        rwd          front       94.5  ...         152   \n",
       "3        sedan        fwd          front       99.8  ...         109   \n",
       "4        sedan        4wd          front       99.4  ...         136   \n",
       "\n",
       "   fuelsystem  boreratio  stroke compressionratio horsepower  peakrpm citympg  \\\n",
       "0        mpfi       3.47    2.68              9.0        111     5000      21   \n",
       "1        mpfi       3.47    2.68              9.0        111     5000      21   \n",
       "2        mpfi       2.68    3.47              9.0        154     5000      19   \n",
       "3        mpfi       3.19    3.40             10.0        102     5500      24   \n",
       "4        mpfi       3.19    3.40              8.0        115     5500      18   \n",
       "\n",
       "   highwaympg    price  \n",
       "0          27  13495.0  \n",
       "1          27  16500.0  \n",
       "2          26  16500.0  \n",
       "3          30  13950.0  \n",
       "4          22  17450.0  \n",
       "\n",
       "[5 rows x 26 columns]"
      ]
     },
     "execution_count": 4,
     "metadata": {},
     "output_type": "execute_result"
    }
   ],
   "source": [
    "data.head()"
   ]
  },
  {
   "cell_type": "code",
   "execution_count": 5,
   "id": "37a5a1a9",
   "metadata": {
    "execution": {
     "iopub.execute_input": "2023-04-30T13:47:25.362711Z",
     "iopub.status.busy": "2023-04-30T13:47:25.362307Z",
     "iopub.status.idle": "2023-04-30T13:47:25.421173Z",
     "shell.execute_reply": "2023-04-30T13:47:25.419875Z"
    },
    "papermill": {
     "duration": 0.0736,
     "end_time": "2023-04-30T13:47:25.423674",
     "exception": false,
     "start_time": "2023-04-30T13:47:25.350074",
     "status": "completed"
    },
    "tags": []
   },
   "outputs": [
    {
     "data": {
      "text/html": [
       "<div>\n",
       "<style scoped>\n",
       "    .dataframe tbody tr th:only-of-type {\n",
       "        vertical-align: middle;\n",
       "    }\n",
       "\n",
       "    .dataframe tbody tr th {\n",
       "        vertical-align: top;\n",
       "    }\n",
       "\n",
       "    .dataframe thead th {\n",
       "        text-align: right;\n",
       "    }\n",
       "</style>\n",
       "<table border=\"1\" class=\"dataframe\">\n",
       "  <thead>\n",
       "    <tr style=\"text-align: right;\">\n",
       "      <th></th>\n",
       "      <th>car_ID</th>\n",
       "      <th>symboling</th>\n",
       "      <th>wheelbase</th>\n",
       "      <th>carlength</th>\n",
       "      <th>carwidth</th>\n",
       "      <th>carheight</th>\n",
       "      <th>curbweight</th>\n",
       "      <th>enginesize</th>\n",
       "      <th>boreratio</th>\n",
       "      <th>stroke</th>\n",
       "      <th>compressionratio</th>\n",
       "      <th>horsepower</th>\n",
       "      <th>peakrpm</th>\n",
       "      <th>citympg</th>\n",
       "      <th>highwaympg</th>\n",
       "      <th>price</th>\n",
       "    </tr>\n",
       "  </thead>\n",
       "  <tbody>\n",
       "    <tr>\n",
       "      <th>count</th>\n",
       "      <td>205.000000</td>\n",
       "      <td>205.000000</td>\n",
       "      <td>205.000000</td>\n",
       "      <td>205.000000</td>\n",
       "      <td>205.000000</td>\n",
       "      <td>205.000000</td>\n",
       "      <td>205.000000</td>\n",
       "      <td>205.000000</td>\n",
       "      <td>205.000000</td>\n",
       "      <td>205.000000</td>\n",
       "      <td>205.000000</td>\n",
       "      <td>205.000000</td>\n",
       "      <td>205.000000</td>\n",
       "      <td>205.000000</td>\n",
       "      <td>205.000000</td>\n",
       "      <td>205.000000</td>\n",
       "    </tr>\n",
       "    <tr>\n",
       "      <th>mean</th>\n",
       "      <td>103.000000</td>\n",
       "      <td>0.834146</td>\n",
       "      <td>98.756585</td>\n",
       "      <td>174.049268</td>\n",
       "      <td>65.907805</td>\n",
       "      <td>53.724878</td>\n",
       "      <td>2555.565854</td>\n",
       "      <td>126.907317</td>\n",
       "      <td>3.329756</td>\n",
       "      <td>3.255415</td>\n",
       "      <td>10.142537</td>\n",
       "      <td>104.117073</td>\n",
       "      <td>5125.121951</td>\n",
       "      <td>25.219512</td>\n",
       "      <td>30.751220</td>\n",
       "      <td>13276.710571</td>\n",
       "    </tr>\n",
       "    <tr>\n",
       "      <th>std</th>\n",
       "      <td>59.322565</td>\n",
       "      <td>1.245307</td>\n",
       "      <td>6.021776</td>\n",
       "      <td>12.337289</td>\n",
       "      <td>2.145204</td>\n",
       "      <td>2.443522</td>\n",
       "      <td>520.680204</td>\n",
       "      <td>41.642693</td>\n",
       "      <td>0.270844</td>\n",
       "      <td>0.313597</td>\n",
       "      <td>3.972040</td>\n",
       "      <td>39.544167</td>\n",
       "      <td>476.985643</td>\n",
       "      <td>6.542142</td>\n",
       "      <td>6.886443</td>\n",
       "      <td>7988.852332</td>\n",
       "    </tr>\n",
       "    <tr>\n",
       "      <th>min</th>\n",
       "      <td>1.000000</td>\n",
       "      <td>-2.000000</td>\n",
       "      <td>86.600000</td>\n",
       "      <td>141.100000</td>\n",
       "      <td>60.300000</td>\n",
       "      <td>47.800000</td>\n",
       "      <td>1488.000000</td>\n",
       "      <td>61.000000</td>\n",
       "      <td>2.540000</td>\n",
       "      <td>2.070000</td>\n",
       "      <td>7.000000</td>\n",
       "      <td>48.000000</td>\n",
       "      <td>4150.000000</td>\n",
       "      <td>13.000000</td>\n",
       "      <td>16.000000</td>\n",
       "      <td>5118.000000</td>\n",
       "    </tr>\n",
       "    <tr>\n",
       "      <th>25%</th>\n",
       "      <td>52.000000</td>\n",
       "      <td>0.000000</td>\n",
       "      <td>94.500000</td>\n",
       "      <td>166.300000</td>\n",
       "      <td>64.100000</td>\n",
       "      <td>52.000000</td>\n",
       "      <td>2145.000000</td>\n",
       "      <td>97.000000</td>\n",
       "      <td>3.150000</td>\n",
       "      <td>3.110000</td>\n",
       "      <td>8.600000</td>\n",
       "      <td>70.000000</td>\n",
       "      <td>4800.000000</td>\n",
       "      <td>19.000000</td>\n",
       "      <td>25.000000</td>\n",
       "      <td>7788.000000</td>\n",
       "    </tr>\n",
       "    <tr>\n",
       "      <th>50%</th>\n",
       "      <td>103.000000</td>\n",
       "      <td>1.000000</td>\n",
       "      <td>97.000000</td>\n",
       "      <td>173.200000</td>\n",
       "      <td>65.500000</td>\n",
       "      <td>54.100000</td>\n",
       "      <td>2414.000000</td>\n",
       "      <td>120.000000</td>\n",
       "      <td>3.310000</td>\n",
       "      <td>3.290000</td>\n",
       "      <td>9.000000</td>\n",
       "      <td>95.000000</td>\n",
       "      <td>5200.000000</td>\n",
       "      <td>24.000000</td>\n",
       "      <td>30.000000</td>\n",
       "      <td>10295.000000</td>\n",
       "    </tr>\n",
       "    <tr>\n",
       "      <th>75%</th>\n",
       "      <td>154.000000</td>\n",
       "      <td>2.000000</td>\n",
       "      <td>102.400000</td>\n",
       "      <td>183.100000</td>\n",
       "      <td>66.900000</td>\n",
       "      <td>55.500000</td>\n",
       "      <td>2935.000000</td>\n",
       "      <td>141.000000</td>\n",
       "      <td>3.580000</td>\n",
       "      <td>3.410000</td>\n",
       "      <td>9.400000</td>\n",
       "      <td>116.000000</td>\n",
       "      <td>5500.000000</td>\n",
       "      <td>30.000000</td>\n",
       "      <td>34.000000</td>\n",
       "      <td>16503.000000</td>\n",
       "    </tr>\n",
       "    <tr>\n",
       "      <th>max</th>\n",
       "      <td>205.000000</td>\n",
       "      <td>3.000000</td>\n",
       "      <td>120.900000</td>\n",
       "      <td>208.100000</td>\n",
       "      <td>72.300000</td>\n",
       "      <td>59.800000</td>\n",
       "      <td>4066.000000</td>\n",
       "      <td>326.000000</td>\n",
       "      <td>3.940000</td>\n",
       "      <td>4.170000</td>\n",
       "      <td>23.000000</td>\n",
       "      <td>288.000000</td>\n",
       "      <td>6600.000000</td>\n",
       "      <td>49.000000</td>\n",
       "      <td>54.000000</td>\n",
       "      <td>45400.000000</td>\n",
       "    </tr>\n",
       "  </tbody>\n",
       "</table>\n",
       "</div>"
      ],
      "text/plain": [
       "           car_ID   symboling   wheelbase   carlength    carwidth   carheight  \\\n",
       "count  205.000000  205.000000  205.000000  205.000000  205.000000  205.000000   \n",
       "mean   103.000000    0.834146   98.756585  174.049268   65.907805   53.724878   \n",
       "std     59.322565    1.245307    6.021776   12.337289    2.145204    2.443522   \n",
       "min      1.000000   -2.000000   86.600000  141.100000   60.300000   47.800000   \n",
       "25%     52.000000    0.000000   94.500000  166.300000   64.100000   52.000000   \n",
       "50%    103.000000    1.000000   97.000000  173.200000   65.500000   54.100000   \n",
       "75%    154.000000    2.000000  102.400000  183.100000   66.900000   55.500000   \n",
       "max    205.000000    3.000000  120.900000  208.100000   72.300000   59.800000   \n",
       "\n",
       "        curbweight  enginesize   boreratio      stroke  compressionratio  \\\n",
       "count   205.000000  205.000000  205.000000  205.000000        205.000000   \n",
       "mean   2555.565854  126.907317    3.329756    3.255415         10.142537   \n",
       "std     520.680204   41.642693    0.270844    0.313597          3.972040   \n",
       "min    1488.000000   61.000000    2.540000    2.070000          7.000000   \n",
       "25%    2145.000000   97.000000    3.150000    3.110000          8.600000   \n",
       "50%    2414.000000  120.000000    3.310000    3.290000          9.000000   \n",
       "75%    2935.000000  141.000000    3.580000    3.410000          9.400000   \n",
       "max    4066.000000  326.000000    3.940000    4.170000         23.000000   \n",
       "\n",
       "       horsepower      peakrpm     citympg  highwaympg         price  \n",
       "count  205.000000   205.000000  205.000000  205.000000    205.000000  \n",
       "mean   104.117073  5125.121951   25.219512   30.751220  13276.710571  \n",
       "std     39.544167   476.985643    6.542142    6.886443   7988.852332  \n",
       "min     48.000000  4150.000000   13.000000   16.000000   5118.000000  \n",
       "25%     70.000000  4800.000000   19.000000   25.000000   7788.000000  \n",
       "50%     95.000000  5200.000000   24.000000   30.000000  10295.000000  \n",
       "75%    116.000000  5500.000000   30.000000   34.000000  16503.000000  \n",
       "max    288.000000  6600.000000   49.000000   54.000000  45400.000000  "
      ]
     },
     "execution_count": 5,
     "metadata": {},
     "output_type": "execute_result"
    }
   ],
   "source": [
    "data.describe()"
   ]
  },
  {
   "cell_type": "code",
   "execution_count": 6,
   "id": "d05d75f8",
   "metadata": {
    "execution": {
     "iopub.execute_input": "2023-04-30T13:47:25.447673Z",
     "iopub.status.busy": "2023-04-30T13:47:25.447270Z",
     "iopub.status.idle": "2023-04-30T13:47:25.477698Z",
     "shell.execute_reply": "2023-04-30T13:47:25.476377Z"
    },
    "papermill": {
     "duration": 0.045584,
     "end_time": "2023-04-30T13:47:25.480140",
     "exception": false,
     "start_time": "2023-04-30T13:47:25.434556",
     "status": "completed"
    },
    "tags": []
   },
   "outputs": [
    {
     "data": {
      "text/html": [
       "<div>\n",
       "<style scoped>\n",
       "    .dataframe tbody tr th:only-of-type {\n",
       "        vertical-align: middle;\n",
       "    }\n",
       "\n",
       "    .dataframe tbody tr th {\n",
       "        vertical-align: top;\n",
       "    }\n",
       "\n",
       "    .dataframe thead th {\n",
       "        text-align: right;\n",
       "    }\n",
       "</style>\n",
       "<table border=\"1\" class=\"dataframe\">\n",
       "  <thead>\n",
       "    <tr style=\"text-align: right;\">\n",
       "      <th></th>\n",
       "      <th>car_ID</th>\n",
       "      <th>symboling</th>\n",
       "      <th>wheelbase</th>\n",
       "      <th>carlength</th>\n",
       "      <th>carwidth</th>\n",
       "      <th>carheight</th>\n",
       "      <th>curbweight</th>\n",
       "      <th>enginesize</th>\n",
       "      <th>boreratio</th>\n",
       "      <th>stroke</th>\n",
       "      <th>compressionratio</th>\n",
       "      <th>horsepower</th>\n",
       "      <th>peakrpm</th>\n",
       "      <th>citympg</th>\n",
       "      <th>highwaympg</th>\n",
       "      <th>price</th>\n",
       "    </tr>\n",
       "  </thead>\n",
       "  <tbody>\n",
       "    <tr>\n",
       "      <th>car_ID</th>\n",
       "      <td>1.000000</td>\n",
       "      <td>-0.151621</td>\n",
       "      <td>0.129729</td>\n",
       "      <td>0.170636</td>\n",
       "      <td>0.052387</td>\n",
       "      <td>0.255960</td>\n",
       "      <td>0.071962</td>\n",
       "      <td>-0.033930</td>\n",
       "      <td>0.260064</td>\n",
       "      <td>-0.160824</td>\n",
       "      <td>0.150276</td>\n",
       "      <td>-0.015006</td>\n",
       "      <td>-0.203789</td>\n",
       "      <td>0.015940</td>\n",
       "      <td>0.011255</td>\n",
       "      <td>-0.109093</td>\n",
       "    </tr>\n",
       "    <tr>\n",
       "      <th>symboling</th>\n",
       "      <td>-0.151621</td>\n",
       "      <td>1.000000</td>\n",
       "      <td>-0.531954</td>\n",
       "      <td>-0.357612</td>\n",
       "      <td>-0.232919</td>\n",
       "      <td>-0.541038</td>\n",
       "      <td>-0.227691</td>\n",
       "      <td>-0.105790</td>\n",
       "      <td>-0.130051</td>\n",
       "      <td>-0.008735</td>\n",
       "      <td>-0.178515</td>\n",
       "      <td>0.070873</td>\n",
       "      <td>0.273606</td>\n",
       "      <td>-0.035823</td>\n",
       "      <td>0.034606</td>\n",
       "      <td>-0.079978</td>\n",
       "    </tr>\n",
       "    <tr>\n",
       "      <th>wheelbase</th>\n",
       "      <td>0.129729</td>\n",
       "      <td>-0.531954</td>\n",
       "      <td>1.000000</td>\n",
       "      <td>0.874587</td>\n",
       "      <td>0.795144</td>\n",
       "      <td>0.589435</td>\n",
       "      <td>0.776386</td>\n",
       "      <td>0.569329</td>\n",
       "      <td>0.488750</td>\n",
       "      <td>0.160959</td>\n",
       "      <td>0.249786</td>\n",
       "      <td>0.353294</td>\n",
       "      <td>-0.360469</td>\n",
       "      <td>-0.470414</td>\n",
       "      <td>-0.544082</td>\n",
       "      <td>0.577816</td>\n",
       "    </tr>\n",
       "    <tr>\n",
       "      <th>carlength</th>\n",
       "      <td>0.170636</td>\n",
       "      <td>-0.357612</td>\n",
       "      <td>0.874587</td>\n",
       "      <td>1.000000</td>\n",
       "      <td>0.841118</td>\n",
       "      <td>0.491029</td>\n",
       "      <td>0.877728</td>\n",
       "      <td>0.683360</td>\n",
       "      <td>0.606454</td>\n",
       "      <td>0.129533</td>\n",
       "      <td>0.158414</td>\n",
       "      <td>0.552623</td>\n",
       "      <td>-0.287242</td>\n",
       "      <td>-0.670909</td>\n",
       "      <td>-0.704662</td>\n",
       "      <td>0.682920</td>\n",
       "    </tr>\n",
       "    <tr>\n",
       "      <th>carwidth</th>\n",
       "      <td>0.052387</td>\n",
       "      <td>-0.232919</td>\n",
       "      <td>0.795144</td>\n",
       "      <td>0.841118</td>\n",
       "      <td>1.000000</td>\n",
       "      <td>0.279210</td>\n",
       "      <td>0.867032</td>\n",
       "      <td>0.735433</td>\n",
       "      <td>0.559150</td>\n",
       "      <td>0.182942</td>\n",
       "      <td>0.181129</td>\n",
       "      <td>0.640732</td>\n",
       "      <td>-0.220012</td>\n",
       "      <td>-0.642704</td>\n",
       "      <td>-0.677218</td>\n",
       "      <td>0.759325</td>\n",
       "    </tr>\n",
       "    <tr>\n",
       "      <th>carheight</th>\n",
       "      <td>0.255960</td>\n",
       "      <td>-0.541038</td>\n",
       "      <td>0.589435</td>\n",
       "      <td>0.491029</td>\n",
       "      <td>0.279210</td>\n",
       "      <td>1.000000</td>\n",
       "      <td>0.295572</td>\n",
       "      <td>0.067149</td>\n",
       "      <td>0.171071</td>\n",
       "      <td>-0.055307</td>\n",
       "      <td>0.261214</td>\n",
       "      <td>-0.108802</td>\n",
       "      <td>-0.320411</td>\n",
       "      <td>-0.048640</td>\n",
       "      <td>-0.107358</td>\n",
       "      <td>0.119336</td>\n",
       "    </tr>\n",
       "    <tr>\n",
       "      <th>curbweight</th>\n",
       "      <td>0.071962</td>\n",
       "      <td>-0.227691</td>\n",
       "      <td>0.776386</td>\n",
       "      <td>0.877728</td>\n",
       "      <td>0.867032</td>\n",
       "      <td>0.295572</td>\n",
       "      <td>1.000000</td>\n",
       "      <td>0.850594</td>\n",
       "      <td>0.648480</td>\n",
       "      <td>0.168790</td>\n",
       "      <td>0.151362</td>\n",
       "      <td>0.750739</td>\n",
       "      <td>-0.266243</td>\n",
       "      <td>-0.757414</td>\n",
       "      <td>-0.797465</td>\n",
       "      <td>0.835305</td>\n",
       "    </tr>\n",
       "    <tr>\n",
       "      <th>enginesize</th>\n",
       "      <td>-0.033930</td>\n",
       "      <td>-0.105790</td>\n",
       "      <td>0.569329</td>\n",
       "      <td>0.683360</td>\n",
       "      <td>0.735433</td>\n",
       "      <td>0.067149</td>\n",
       "      <td>0.850594</td>\n",
       "      <td>1.000000</td>\n",
       "      <td>0.583774</td>\n",
       "      <td>0.203129</td>\n",
       "      <td>0.028971</td>\n",
       "      <td>0.809769</td>\n",
       "      <td>-0.244660</td>\n",
       "      <td>-0.653658</td>\n",
       "      <td>-0.677470</td>\n",
       "      <td>0.874145</td>\n",
       "    </tr>\n",
       "    <tr>\n",
       "      <th>boreratio</th>\n",
       "      <td>0.260064</td>\n",
       "      <td>-0.130051</td>\n",
       "      <td>0.488750</td>\n",
       "      <td>0.606454</td>\n",
       "      <td>0.559150</td>\n",
       "      <td>0.171071</td>\n",
       "      <td>0.648480</td>\n",
       "      <td>0.583774</td>\n",
       "      <td>1.000000</td>\n",
       "      <td>-0.055909</td>\n",
       "      <td>0.005197</td>\n",
       "      <td>0.573677</td>\n",
       "      <td>-0.254976</td>\n",
       "      <td>-0.584532</td>\n",
       "      <td>-0.587012</td>\n",
       "      <td>0.553173</td>\n",
       "    </tr>\n",
       "    <tr>\n",
       "      <th>stroke</th>\n",
       "      <td>-0.160824</td>\n",
       "      <td>-0.008735</td>\n",
       "      <td>0.160959</td>\n",
       "      <td>0.129533</td>\n",
       "      <td>0.182942</td>\n",
       "      <td>-0.055307</td>\n",
       "      <td>0.168790</td>\n",
       "      <td>0.203129</td>\n",
       "      <td>-0.055909</td>\n",
       "      <td>1.000000</td>\n",
       "      <td>0.186110</td>\n",
       "      <td>0.080940</td>\n",
       "      <td>-0.067964</td>\n",
       "      <td>-0.042145</td>\n",
       "      <td>-0.043931</td>\n",
       "      <td>0.079443</td>\n",
       "    </tr>\n",
       "    <tr>\n",
       "      <th>compressionratio</th>\n",
       "      <td>0.150276</td>\n",
       "      <td>-0.178515</td>\n",
       "      <td>0.249786</td>\n",
       "      <td>0.158414</td>\n",
       "      <td>0.181129</td>\n",
       "      <td>0.261214</td>\n",
       "      <td>0.151362</td>\n",
       "      <td>0.028971</td>\n",
       "      <td>0.005197</td>\n",
       "      <td>0.186110</td>\n",
       "      <td>1.000000</td>\n",
       "      <td>-0.204326</td>\n",
       "      <td>-0.435741</td>\n",
       "      <td>0.324701</td>\n",
       "      <td>0.265201</td>\n",
       "      <td>0.067984</td>\n",
       "    </tr>\n",
       "    <tr>\n",
       "      <th>horsepower</th>\n",
       "      <td>-0.015006</td>\n",
       "      <td>0.070873</td>\n",
       "      <td>0.353294</td>\n",
       "      <td>0.552623</td>\n",
       "      <td>0.640732</td>\n",
       "      <td>-0.108802</td>\n",
       "      <td>0.750739</td>\n",
       "      <td>0.809769</td>\n",
       "      <td>0.573677</td>\n",
       "      <td>0.080940</td>\n",
       "      <td>-0.204326</td>\n",
       "      <td>1.000000</td>\n",
       "      <td>0.131073</td>\n",
       "      <td>-0.801456</td>\n",
       "      <td>-0.770544</td>\n",
       "      <td>0.808139</td>\n",
       "    </tr>\n",
       "    <tr>\n",
       "      <th>peakrpm</th>\n",
       "      <td>-0.203789</td>\n",
       "      <td>0.273606</td>\n",
       "      <td>-0.360469</td>\n",
       "      <td>-0.287242</td>\n",
       "      <td>-0.220012</td>\n",
       "      <td>-0.320411</td>\n",
       "      <td>-0.266243</td>\n",
       "      <td>-0.244660</td>\n",
       "      <td>-0.254976</td>\n",
       "      <td>-0.067964</td>\n",
       "      <td>-0.435741</td>\n",
       "      <td>0.131073</td>\n",
       "      <td>1.000000</td>\n",
       "      <td>-0.113544</td>\n",
       "      <td>-0.054275</td>\n",
       "      <td>-0.085267</td>\n",
       "    </tr>\n",
       "    <tr>\n",
       "      <th>citympg</th>\n",
       "      <td>0.015940</td>\n",
       "      <td>-0.035823</td>\n",
       "      <td>-0.470414</td>\n",
       "      <td>-0.670909</td>\n",
       "      <td>-0.642704</td>\n",
       "      <td>-0.048640</td>\n",
       "      <td>-0.757414</td>\n",
       "      <td>-0.653658</td>\n",
       "      <td>-0.584532</td>\n",
       "      <td>-0.042145</td>\n",
       "      <td>0.324701</td>\n",
       "      <td>-0.801456</td>\n",
       "      <td>-0.113544</td>\n",
       "      <td>1.000000</td>\n",
       "      <td>0.971337</td>\n",
       "      <td>-0.685751</td>\n",
       "    </tr>\n",
       "    <tr>\n",
       "      <th>highwaympg</th>\n",
       "      <td>0.011255</td>\n",
       "      <td>0.034606</td>\n",
       "      <td>-0.544082</td>\n",
       "      <td>-0.704662</td>\n",
       "      <td>-0.677218</td>\n",
       "      <td>-0.107358</td>\n",
       "      <td>-0.797465</td>\n",
       "      <td>-0.677470</td>\n",
       "      <td>-0.587012</td>\n",
       "      <td>-0.043931</td>\n",
       "      <td>0.265201</td>\n",
       "      <td>-0.770544</td>\n",
       "      <td>-0.054275</td>\n",
       "      <td>0.971337</td>\n",
       "      <td>1.000000</td>\n",
       "      <td>-0.697599</td>\n",
       "    </tr>\n",
       "    <tr>\n",
       "      <th>price</th>\n",
       "      <td>-0.109093</td>\n",
       "      <td>-0.079978</td>\n",
       "      <td>0.577816</td>\n",
       "      <td>0.682920</td>\n",
       "      <td>0.759325</td>\n",
       "      <td>0.119336</td>\n",
       "      <td>0.835305</td>\n",
       "      <td>0.874145</td>\n",
       "      <td>0.553173</td>\n",
       "      <td>0.079443</td>\n",
       "      <td>0.067984</td>\n",
       "      <td>0.808139</td>\n",
       "      <td>-0.085267</td>\n",
       "      <td>-0.685751</td>\n",
       "      <td>-0.697599</td>\n",
       "      <td>1.000000</td>\n",
       "    </tr>\n",
       "  </tbody>\n",
       "</table>\n",
       "</div>"
      ],
      "text/plain": [
       "                    car_ID  symboling  wheelbase  carlength  carwidth  \\\n",
       "car_ID            1.000000  -0.151621   0.129729   0.170636  0.052387   \n",
       "symboling        -0.151621   1.000000  -0.531954  -0.357612 -0.232919   \n",
       "wheelbase         0.129729  -0.531954   1.000000   0.874587  0.795144   \n",
       "carlength         0.170636  -0.357612   0.874587   1.000000  0.841118   \n",
       "carwidth          0.052387  -0.232919   0.795144   0.841118  1.000000   \n",
       "carheight         0.255960  -0.541038   0.589435   0.491029  0.279210   \n",
       "curbweight        0.071962  -0.227691   0.776386   0.877728  0.867032   \n",
       "enginesize       -0.033930  -0.105790   0.569329   0.683360  0.735433   \n",
       "boreratio         0.260064  -0.130051   0.488750   0.606454  0.559150   \n",
       "stroke           -0.160824  -0.008735   0.160959   0.129533  0.182942   \n",
       "compressionratio  0.150276  -0.178515   0.249786   0.158414  0.181129   \n",
       "horsepower       -0.015006   0.070873   0.353294   0.552623  0.640732   \n",
       "peakrpm          -0.203789   0.273606  -0.360469  -0.287242 -0.220012   \n",
       "citympg           0.015940  -0.035823  -0.470414  -0.670909 -0.642704   \n",
       "highwaympg        0.011255   0.034606  -0.544082  -0.704662 -0.677218   \n",
       "price            -0.109093  -0.079978   0.577816   0.682920  0.759325   \n",
       "\n",
       "                  carheight  curbweight  enginesize  boreratio    stroke  \\\n",
       "car_ID             0.255960    0.071962   -0.033930   0.260064 -0.160824   \n",
       "symboling         -0.541038   -0.227691   -0.105790  -0.130051 -0.008735   \n",
       "wheelbase          0.589435    0.776386    0.569329   0.488750  0.160959   \n",
       "carlength          0.491029    0.877728    0.683360   0.606454  0.129533   \n",
       "carwidth           0.279210    0.867032    0.735433   0.559150  0.182942   \n",
       "carheight          1.000000    0.295572    0.067149   0.171071 -0.055307   \n",
       "curbweight         0.295572    1.000000    0.850594   0.648480  0.168790   \n",
       "enginesize         0.067149    0.850594    1.000000   0.583774  0.203129   \n",
       "boreratio          0.171071    0.648480    0.583774   1.000000 -0.055909   \n",
       "stroke            -0.055307    0.168790    0.203129  -0.055909  1.000000   \n",
       "compressionratio   0.261214    0.151362    0.028971   0.005197  0.186110   \n",
       "horsepower        -0.108802    0.750739    0.809769   0.573677  0.080940   \n",
       "peakrpm           -0.320411   -0.266243   -0.244660  -0.254976 -0.067964   \n",
       "citympg           -0.048640   -0.757414   -0.653658  -0.584532 -0.042145   \n",
       "highwaympg        -0.107358   -0.797465   -0.677470  -0.587012 -0.043931   \n",
       "price              0.119336    0.835305    0.874145   0.553173  0.079443   \n",
       "\n",
       "                  compressionratio  horsepower   peakrpm   citympg  \\\n",
       "car_ID                    0.150276   -0.015006 -0.203789  0.015940   \n",
       "symboling                -0.178515    0.070873  0.273606 -0.035823   \n",
       "wheelbase                 0.249786    0.353294 -0.360469 -0.470414   \n",
       "carlength                 0.158414    0.552623 -0.287242 -0.670909   \n",
       "carwidth                  0.181129    0.640732 -0.220012 -0.642704   \n",
       "carheight                 0.261214   -0.108802 -0.320411 -0.048640   \n",
       "curbweight                0.151362    0.750739 -0.266243 -0.757414   \n",
       "enginesize                0.028971    0.809769 -0.244660 -0.653658   \n",
       "boreratio                 0.005197    0.573677 -0.254976 -0.584532   \n",
       "stroke                    0.186110    0.080940 -0.067964 -0.042145   \n",
       "compressionratio          1.000000   -0.204326 -0.435741  0.324701   \n",
       "horsepower               -0.204326    1.000000  0.131073 -0.801456   \n",
       "peakrpm                  -0.435741    0.131073  1.000000 -0.113544   \n",
       "citympg                   0.324701   -0.801456 -0.113544  1.000000   \n",
       "highwaympg                0.265201   -0.770544 -0.054275  0.971337   \n",
       "price                     0.067984    0.808139 -0.085267 -0.685751   \n",
       "\n",
       "                  highwaympg     price  \n",
       "car_ID              0.011255 -0.109093  \n",
       "symboling           0.034606 -0.079978  \n",
       "wheelbase          -0.544082  0.577816  \n",
       "carlength          -0.704662  0.682920  \n",
       "carwidth           -0.677218  0.759325  \n",
       "carheight          -0.107358  0.119336  \n",
       "curbweight         -0.797465  0.835305  \n",
       "enginesize         -0.677470  0.874145  \n",
       "boreratio          -0.587012  0.553173  \n",
       "stroke             -0.043931  0.079443  \n",
       "compressionratio    0.265201  0.067984  \n",
       "horsepower         -0.770544  0.808139  \n",
       "peakrpm            -0.054275 -0.085267  \n",
       "citympg             0.971337 -0.685751  \n",
       "highwaympg          1.000000 -0.697599  \n",
       "price              -0.697599  1.000000  "
      ]
     },
     "execution_count": 6,
     "metadata": {},
     "output_type": "execute_result"
    }
   ],
   "source": [
    "data.corr()"
   ]
  },
  {
   "cell_type": "code",
   "execution_count": 7,
   "id": "6c7d49f7",
   "metadata": {
    "execution": {
     "iopub.execute_input": "2023-04-30T13:47:25.505490Z",
     "iopub.status.busy": "2023-04-30T13:47:25.505042Z",
     "iopub.status.idle": "2023-04-30T13:47:26.603324Z",
     "shell.execute_reply": "2023-04-30T13:47:26.602295Z"
    },
    "papermill": {
     "duration": 1.114581,
     "end_time": "2023-04-30T13:47:26.606205",
     "exception": false,
     "start_time": "2023-04-30T13:47:25.491624",
     "status": "completed"
    },
    "tags": []
   },
   "outputs": [],
   "source": [
    "from sklearn.preprocessing import OrdinalEncoder\n",
    "ordinal_encoder = OrdinalEncoder()\n",
    "data[['CarName','fueltype','aspiration','doornumber','carbody','drivewheel','enginelocation','enginetype','cylindernumber','fuelsystem']] = ordinal_encoder.fit_transform(data[['CarName','fueltype','aspiration','doornumber','carbody','drivewheel','enginelocation','enginetype','cylindernumber','fuelsystem']])\n"
   ]
  },
  {
   "cell_type": "code",
   "execution_count": 8,
   "id": "9deb246d",
   "metadata": {
    "execution": {
     "iopub.execute_input": "2023-04-30T13:47:26.632136Z",
     "iopub.status.busy": "2023-04-30T13:47:26.631495Z",
     "iopub.status.idle": "2023-04-30T13:47:26.647333Z",
     "shell.execute_reply": "2023-04-30T13:47:26.645673Z"
    },
    "papermill": {
     "duration": 0.031919,
     "end_time": "2023-04-30T13:47:26.649925",
     "exception": false,
     "start_time": "2023-04-30T13:47:26.618006",
     "status": "completed"
    },
    "tags": []
   },
   "outputs": [
    {
     "name": "stdout",
     "output_type": "stream",
     "text": [
      "<class 'pandas.core.frame.DataFrame'>\n",
      "RangeIndex: 205 entries, 0 to 204\n",
      "Data columns (total 26 columns):\n",
      " #   Column            Non-Null Count  Dtype  \n",
      "---  ------            --------------  -----  \n",
      " 0   car_ID            205 non-null    int64  \n",
      " 1   symboling         205 non-null    int64  \n",
      " 2   CarName           205 non-null    float64\n",
      " 3   fueltype          205 non-null    float64\n",
      " 4   aspiration        205 non-null    float64\n",
      " 5   doornumber        205 non-null    float64\n",
      " 6   carbody           205 non-null    float64\n",
      " 7   drivewheel        205 non-null    float64\n",
      " 8   enginelocation    205 non-null    float64\n",
      " 9   wheelbase         205 non-null    float64\n",
      " 10  carlength         205 non-null    float64\n",
      " 11  carwidth          205 non-null    float64\n",
      " 12  carheight         205 non-null    float64\n",
      " 13  curbweight        205 non-null    int64  \n",
      " 14  enginetype        205 non-null    float64\n",
      " 15  cylindernumber    205 non-null    float64\n",
      " 16  enginesize        205 non-null    int64  \n",
      " 17  fuelsystem        205 non-null    float64\n",
      " 18  boreratio         205 non-null    float64\n",
      " 19  stroke            205 non-null    float64\n",
      " 20  compressionratio  205 non-null    float64\n",
      " 21  horsepower        205 non-null    int64  \n",
      " 22  peakrpm           205 non-null    int64  \n",
      " 23  citympg           205 non-null    int64  \n",
      " 24  highwaympg        205 non-null    int64  \n",
      " 25  price             205 non-null    float64\n",
      "dtypes: float64(18), int64(8)\n",
      "memory usage: 41.8 KB\n"
     ]
    }
   ],
   "source": [
    "data.info()\n"
   ]
  },
  {
   "cell_type": "code",
   "execution_count": 9,
   "id": "bc169f38",
   "metadata": {
    "execution": {
     "iopub.execute_input": "2023-04-30T13:47:26.675469Z",
     "iopub.status.busy": "2023-04-30T13:47:26.674620Z",
     "iopub.status.idle": "2023-04-30T13:47:26.704472Z",
     "shell.execute_reply": "2023-04-30T13:47:26.703082Z"
    },
    "papermill": {
     "duration": 0.04555,
     "end_time": "2023-04-30T13:47:26.707172",
     "exception": false,
     "start_time": "2023-04-30T13:47:26.661622",
     "status": "completed"
    },
    "tags": []
   },
   "outputs": [
    {
     "data": {
      "text/html": [
       "<div>\n",
       "<style scoped>\n",
       "    .dataframe tbody tr th:only-of-type {\n",
       "        vertical-align: middle;\n",
       "    }\n",
       "\n",
       "    .dataframe tbody tr th {\n",
       "        vertical-align: top;\n",
       "    }\n",
       "\n",
       "    .dataframe thead th {\n",
       "        text-align: right;\n",
       "    }\n",
       "</style>\n",
       "<table border=\"1\" class=\"dataframe\">\n",
       "  <thead>\n",
       "    <tr style=\"text-align: right;\">\n",
       "      <th></th>\n",
       "      <th>car_ID</th>\n",
       "      <th>symboling</th>\n",
       "      <th>CarName</th>\n",
       "      <th>fueltype</th>\n",
       "      <th>aspiration</th>\n",
       "      <th>doornumber</th>\n",
       "      <th>carbody</th>\n",
       "      <th>drivewheel</th>\n",
       "      <th>enginelocation</th>\n",
       "      <th>wheelbase</th>\n",
       "      <th>...</th>\n",
       "      <th>enginesize</th>\n",
       "      <th>fuelsystem</th>\n",
       "      <th>boreratio</th>\n",
       "      <th>stroke</th>\n",
       "      <th>compressionratio</th>\n",
       "      <th>horsepower</th>\n",
       "      <th>peakrpm</th>\n",
       "      <th>citympg</th>\n",
       "      <th>highwaympg</th>\n",
       "      <th>price</th>\n",
       "    </tr>\n",
       "  </thead>\n",
       "  <tbody>\n",
       "    <tr>\n",
       "      <th>0</th>\n",
       "      <td>1</td>\n",
       "      <td>3</td>\n",
       "      <td>2.0</td>\n",
       "      <td>1.0</td>\n",
       "      <td>0.0</td>\n",
       "      <td>1.0</td>\n",
       "      <td>0.0</td>\n",
       "      <td>2.0</td>\n",
       "      <td>0.0</td>\n",
       "      <td>88.6</td>\n",
       "      <td>...</td>\n",
       "      <td>130</td>\n",
       "      <td>5.0</td>\n",
       "      <td>3.47</td>\n",
       "      <td>2.68</td>\n",
       "      <td>9.0</td>\n",
       "      <td>111</td>\n",
       "      <td>5000</td>\n",
       "      <td>21</td>\n",
       "      <td>27</td>\n",
       "      <td>13495.0</td>\n",
       "    </tr>\n",
       "    <tr>\n",
       "      <th>1</th>\n",
       "      <td>2</td>\n",
       "      <td>3</td>\n",
       "      <td>3.0</td>\n",
       "      <td>1.0</td>\n",
       "      <td>0.0</td>\n",
       "      <td>1.0</td>\n",
       "      <td>0.0</td>\n",
       "      <td>2.0</td>\n",
       "      <td>0.0</td>\n",
       "      <td>88.6</td>\n",
       "      <td>...</td>\n",
       "      <td>130</td>\n",
       "      <td>5.0</td>\n",
       "      <td>3.47</td>\n",
       "      <td>2.68</td>\n",
       "      <td>9.0</td>\n",
       "      <td>111</td>\n",
       "      <td>5000</td>\n",
       "      <td>21</td>\n",
       "      <td>27</td>\n",
       "      <td>16500.0</td>\n",
       "    </tr>\n",
       "    <tr>\n",
       "      <th>2</th>\n",
       "      <td>3</td>\n",
       "      <td>1</td>\n",
       "      <td>1.0</td>\n",
       "      <td>1.0</td>\n",
       "      <td>0.0</td>\n",
       "      <td>1.0</td>\n",
       "      <td>2.0</td>\n",
       "      <td>2.0</td>\n",
       "      <td>0.0</td>\n",
       "      <td>94.5</td>\n",
       "      <td>...</td>\n",
       "      <td>152</td>\n",
       "      <td>5.0</td>\n",
       "      <td>2.68</td>\n",
       "      <td>3.47</td>\n",
       "      <td>9.0</td>\n",
       "      <td>154</td>\n",
       "      <td>5000</td>\n",
       "      <td>19</td>\n",
       "      <td>26</td>\n",
       "      <td>16500.0</td>\n",
       "    </tr>\n",
       "    <tr>\n",
       "      <th>3</th>\n",
       "      <td>4</td>\n",
       "      <td>2</td>\n",
       "      <td>4.0</td>\n",
       "      <td>1.0</td>\n",
       "      <td>0.0</td>\n",
       "      <td>0.0</td>\n",
       "      <td>3.0</td>\n",
       "      <td>1.0</td>\n",
       "      <td>0.0</td>\n",
       "      <td>99.8</td>\n",
       "      <td>...</td>\n",
       "      <td>109</td>\n",
       "      <td>5.0</td>\n",
       "      <td>3.19</td>\n",
       "      <td>3.40</td>\n",
       "      <td>10.0</td>\n",
       "      <td>102</td>\n",
       "      <td>5500</td>\n",
       "      <td>24</td>\n",
       "      <td>30</td>\n",
       "      <td>13950.0</td>\n",
       "    </tr>\n",
       "    <tr>\n",
       "      <th>4</th>\n",
       "      <td>5</td>\n",
       "      <td>2</td>\n",
       "      <td>5.0</td>\n",
       "      <td>1.0</td>\n",
       "      <td>0.0</td>\n",
       "      <td>0.0</td>\n",
       "      <td>3.0</td>\n",
       "      <td>0.0</td>\n",
       "      <td>0.0</td>\n",
       "      <td>99.4</td>\n",
       "      <td>...</td>\n",
       "      <td>136</td>\n",
       "      <td>5.0</td>\n",
       "      <td>3.19</td>\n",
       "      <td>3.40</td>\n",
       "      <td>8.0</td>\n",
       "      <td>115</td>\n",
       "      <td>5500</td>\n",
       "      <td>18</td>\n",
       "      <td>22</td>\n",
       "      <td>17450.0</td>\n",
       "    </tr>\n",
       "  </tbody>\n",
       "</table>\n",
       "<p>5 rows × 26 columns</p>\n",
       "</div>"
      ],
      "text/plain": [
       "   car_ID  symboling  CarName  fueltype  aspiration  doornumber  carbody  \\\n",
       "0       1          3      2.0       1.0         0.0         1.0      0.0   \n",
       "1       2          3      3.0       1.0         0.0         1.0      0.0   \n",
       "2       3          1      1.0       1.0         0.0         1.0      2.0   \n",
       "3       4          2      4.0       1.0         0.0         0.0      3.0   \n",
       "4       5          2      5.0       1.0         0.0         0.0      3.0   \n",
       "\n",
       "   drivewheel  enginelocation  wheelbase  ...  enginesize  fuelsystem  \\\n",
       "0         2.0             0.0       88.6  ...         130         5.0   \n",
       "1         2.0             0.0       88.6  ...         130         5.0   \n",
       "2         2.0             0.0       94.5  ...         152         5.0   \n",
       "3         1.0             0.0       99.8  ...         109         5.0   \n",
       "4         0.0             0.0       99.4  ...         136         5.0   \n",
       "\n",
       "   boreratio  stroke  compressionratio  horsepower  peakrpm  citympg  \\\n",
       "0       3.47    2.68               9.0         111     5000       21   \n",
       "1       3.47    2.68               9.0         111     5000       21   \n",
       "2       2.68    3.47               9.0         154     5000       19   \n",
       "3       3.19    3.40              10.0         102     5500       24   \n",
       "4       3.19    3.40               8.0         115     5500       18   \n",
       "\n",
       "   highwaympg    price  \n",
       "0          27  13495.0  \n",
       "1          27  16500.0  \n",
       "2          26  16500.0  \n",
       "3          30  13950.0  \n",
       "4          22  17450.0  \n",
       "\n",
       "[5 rows x 26 columns]"
      ]
     },
     "execution_count": 9,
     "metadata": {},
     "output_type": "execute_result"
    }
   ],
   "source": [
    "data.head()"
   ]
  },
  {
   "cell_type": "code",
   "execution_count": 10,
   "id": "4af34b61",
   "metadata": {
    "execution": {
     "iopub.execute_input": "2023-04-30T13:47:26.733190Z",
     "iopub.status.busy": "2023-04-30T13:47:26.732166Z",
     "iopub.status.idle": "2023-04-30T13:47:26.739335Z",
     "shell.execute_reply": "2023-04-30T13:47:26.738231Z"
    },
    "papermill": {
     "duration": 0.023153,
     "end_time": "2023-04-30T13:47:26.742191",
     "exception": false,
     "start_time": "2023-04-30T13:47:26.719038",
     "status": "completed"
    },
    "tags": []
   },
   "outputs": [],
   "source": [
    "X = data.drop(['price','car_ID'] , axis=1)\n",
    "Y = data['price']"
   ]
  },
  {
   "cell_type": "code",
   "execution_count": 11,
   "id": "58f46664",
   "metadata": {
    "execution": {
     "iopub.execute_input": "2023-04-30T13:47:26.768427Z",
     "iopub.status.busy": "2023-04-30T13:47:26.768002Z",
     "iopub.status.idle": "2023-04-30T13:47:26.773732Z",
     "shell.execute_reply": "2023-04-30T13:47:26.772455Z"
    },
    "papermill": {
     "duration": 0.022085,
     "end_time": "2023-04-30T13:47:26.776604",
     "exception": false,
     "start_time": "2023-04-30T13:47:26.754519",
     "status": "completed"
    },
    "tags": []
   },
   "outputs": [],
   "source": [
    "X_train , Y_train , X_test , Y_test = X[:150] , Y[:150] , X[150:] , Y[150:]"
   ]
  },
  {
   "cell_type": "markdown",
   "id": "3912701a",
   "metadata": {
    "papermill": {
     "duration": 0.01181,
     "end_time": "2023-04-30T13:47:26.800594",
     "exception": false,
     "start_time": "2023-04-30T13:47:26.788784",
     "status": "completed"
    },
    "tags": []
   },
   "source": [
    "# **Using Linear Regression**"
   ]
  },
  {
   "cell_type": "code",
   "execution_count": 12,
   "id": "0e0772bb",
   "metadata": {
    "execution": {
     "iopub.execute_input": "2023-04-30T13:47:26.826482Z",
     "iopub.status.busy": "2023-04-30T13:47:26.825645Z",
     "iopub.status.idle": "2023-04-30T13:47:26.992183Z",
     "shell.execute_reply": "2023-04-30T13:47:26.990734Z"
    },
    "papermill": {
     "duration": 0.182624,
     "end_time": "2023-04-30T13:47:26.995036",
     "exception": false,
     "start_time": "2023-04-30T13:47:26.812412",
     "status": "completed"
    },
    "tags": []
   },
   "outputs": [],
   "source": [
    "from sklearn.linear_model import LinearRegression"
   ]
  },
  {
   "cell_type": "code",
   "execution_count": 13,
   "id": "d7707cc3",
   "metadata": {
    "execution": {
     "iopub.execute_input": "2023-04-30T13:47:27.021102Z",
     "iopub.status.busy": "2023-04-30T13:47:27.020683Z",
     "iopub.status.idle": "2023-04-30T13:47:27.050249Z",
     "shell.execute_reply": "2023-04-30T13:47:27.049086Z"
    },
    "papermill": {
     "duration": 0.045865,
     "end_time": "2023-04-30T13:47:27.052917",
     "exception": false,
     "start_time": "2023-04-30T13:47:27.007052",
     "status": "completed"
    },
    "tags": []
   },
   "outputs": [
    {
     "data": {
      "text/plain": [
       "(-69905.57562399303,\n",
       " array([ 4.49290984e+02, -5.41420442e+01, -4.29312653e+03, -5.51279674e+02,\n",
       "        -6.64141488e+02, -7.10263776e+02,  8.55811335e+02,  9.95224983e+03,\n",
       "         1.87121438e+02,  1.10818031e+01,  5.41584850e+02,  1.67806465e+02,\n",
       "         6.24999120e-01, -9.24210356e+01,  3.34375371e+02,  8.96503364e+01,\n",
       "         7.31870026e+01,  1.98025703e+03, -2.84725270e+03, -1.83029697e+02,\n",
       "         4.09548423e+01,  1.94178597e+00,  3.34776024e+01,  6.12987190e+01]))"
      ]
     },
     "execution_count": 13,
     "metadata": {},
     "output_type": "execute_result"
    }
   ],
   "source": [
    "lin_reg = LinearRegression()\n",
    "lin_reg.fit(X_train , Y_train)\n",
    "Y_pred = lin_reg.predict(X_test)\n",
    "lin_reg.intercept_, lin_reg.coef_\n"
   ]
  },
  {
   "cell_type": "code",
   "execution_count": 14,
   "id": "03d63caa",
   "metadata": {
    "execution": {
     "iopub.execute_input": "2023-04-30T13:47:27.079107Z",
     "iopub.status.busy": "2023-04-30T13:47:27.078375Z",
     "iopub.status.idle": "2023-04-30T13:47:27.085664Z",
     "shell.execute_reply": "2023-04-30T13:47:27.084781Z"
    },
    "papermill": {
     "duration": 0.022627,
     "end_time": "2023-04-30T13:47:27.087687",
     "exception": false,
     "start_time": "2023-04-30T13:47:27.065060",
     "status": "completed"
    },
    "tags": []
   },
   "outputs": [
    {
     "data": {
      "text/plain": [
       "3803.522182159638"
      ]
     },
     "execution_count": 14,
     "metadata": {},
     "output_type": "execute_result"
    }
   ],
   "source": [
    "from sklearn.metrics import mean_squared_error\n",
    "lin_rmse = mean_squared_error(Y_test , Y_pred , squared=False)\n",
    "lin_rmse"
   ]
  },
  {
   "cell_type": "code",
   "execution_count": 15,
   "id": "da2c9782",
   "metadata": {
    "execution": {
     "iopub.execute_input": "2023-04-30T13:47:27.113603Z",
     "iopub.status.busy": "2023-04-30T13:47:27.113159Z",
     "iopub.status.idle": "2023-04-30T13:47:27.120458Z",
     "shell.execute_reply": "2023-04-30T13:47:27.119068Z"
    },
    "papermill": {
     "duration": 0.022988,
     "end_time": "2023-04-30T13:47:27.122755",
     "exception": false,
     "start_time": "2023-04-30T13:47:27.099767",
     "status": "completed"
    },
    "tags": []
   },
   "outputs": [
    {
     "name": "stdout",
     "output_type": "stream",
     "text": [
      "0.25062093778813943\n"
     ]
    }
   ],
   "source": [
    "from sklearn.metrics import r2_score\n",
    "print(r2_score(Y_test,Y_pred))"
   ]
  },
  {
   "cell_type": "code",
   "execution_count": 16,
   "id": "8dfbbeb0",
   "metadata": {
    "execution": {
     "iopub.execute_input": "2023-04-30T13:47:27.149687Z",
     "iopub.status.busy": "2023-04-30T13:47:27.148901Z",
     "iopub.status.idle": "2023-04-30T13:47:27.156388Z",
     "shell.execute_reply": "2023-04-30T13:47:27.155069Z"
    },
    "papermill": {
     "duration": 0.023865,
     "end_time": "2023-04-30T13:47:27.158739",
     "exception": false,
     "start_time": "2023-04-30T13:47:27.134874",
     "status": "completed"
    },
    "tags": []
   },
   "outputs": [],
   "source": [
    "X = data.drop(['price','car_ID'] , axis=1)\n",
    "Y = data['price']"
   ]
  },
  {
   "cell_type": "code",
   "execution_count": 17,
   "id": "4e841dbb",
   "metadata": {
    "execution": {
     "iopub.execute_input": "2023-04-30T13:47:27.185894Z",
     "iopub.status.busy": "2023-04-30T13:47:27.185468Z",
     "iopub.status.idle": "2023-04-30T13:47:27.193691Z",
     "shell.execute_reply": "2023-04-30T13:47:27.192282Z"
    },
    "papermill": {
     "duration": 0.025248,
     "end_time": "2023-04-30T13:47:27.196564",
     "exception": false,
     "start_time": "2023-04-30T13:47:27.171316",
     "status": "completed"
    },
    "tags": []
   },
   "outputs": [],
   "source": [
    "from sklearn.preprocessing import add_dummy_feature\n",
    "X = add_dummy_feature(X)"
   ]
  },
  {
   "cell_type": "code",
   "execution_count": 18,
   "id": "59ccbdee",
   "metadata": {
    "execution": {
     "iopub.execute_input": "2023-04-30T13:47:27.222995Z",
     "iopub.status.busy": "2023-04-30T13:47:27.222589Z",
     "iopub.status.idle": "2023-04-30T13:47:27.228213Z",
     "shell.execute_reply": "2023-04-30T13:47:27.226966Z"
    },
    "papermill": {
     "duration": 0.021751,
     "end_time": "2023-04-30T13:47:27.230585",
     "exception": false,
     "start_time": "2023-04-30T13:47:27.208834",
     "status": "completed"
    },
    "tags": []
   },
   "outputs": [],
   "source": [
    "X_train , Y_train , X_test , Y_test = X[:150] , Y[:150] , X[150:] , Y[150:]"
   ]
  },
  {
   "cell_type": "code",
   "execution_count": 19,
   "id": "8b0e82b2",
   "metadata": {
    "execution": {
     "iopub.execute_input": "2023-04-30T13:47:27.257019Z",
     "iopub.status.busy": "2023-04-30T13:47:27.256627Z",
     "iopub.status.idle": "2023-04-30T13:47:27.262073Z",
     "shell.execute_reply": "2023-04-30T13:47:27.260985Z"
    },
    "papermill": {
     "duration": 0.02132,
     "end_time": "2023-04-30T13:47:27.264272",
     "exception": false,
     "start_time": "2023-04-30T13:47:27.242952",
     "status": "completed"
    },
    "tags": []
   },
   "outputs": [],
   "source": [
    "X = np.array(X_train)\n",
    "Y = np.array(Y_train)"
   ]
  },
  {
   "cell_type": "code",
   "execution_count": 20,
   "id": "33d5fa73",
   "metadata": {
    "execution": {
     "iopub.execute_input": "2023-04-30T13:47:27.290480Z",
     "iopub.status.busy": "2023-04-30T13:47:27.290059Z",
     "iopub.status.idle": "2023-04-30T13:47:27.300901Z",
     "shell.execute_reply": "2023-04-30T13:47:27.298981Z"
    },
    "papermill": {
     "duration": 0.028983,
     "end_time": "2023-04-30T13:47:27.305309",
     "exception": false,
     "start_time": "2023-04-30T13:47:27.276326",
     "status": "completed"
    },
    "tags": []
   },
   "outputs": [],
   "source": [
    "coeffs = np.linalg.inv(X.T @ X) @ X.T @ Y"
   ]
  },
  {
   "cell_type": "code",
   "execution_count": 21,
   "id": "11f14cf1",
   "metadata": {
    "execution": {
     "iopub.execute_input": "2023-04-30T13:47:27.372090Z",
     "iopub.status.busy": "2023-04-30T13:47:27.371374Z",
     "iopub.status.idle": "2023-04-30T13:47:27.383911Z",
     "shell.execute_reply": "2023-04-30T13:47:27.382220Z"
    },
    "papermill": {
     "duration": 0.050786,
     "end_time": "2023-04-30T13:47:27.388040",
     "exception": false,
     "start_time": "2023-04-30T13:47:27.337254",
     "status": "completed"
    },
    "tags": []
   },
   "outputs": [
    {
     "data": {
      "text/plain": [
       "array([-6.99055756e+04,  4.49290984e+02, -5.41420442e+01, -4.29312653e+03,\n",
       "       -5.51279674e+02, -6.64141488e+02, -7.10263776e+02,  8.55811335e+02,\n",
       "        9.95224983e+03,  1.87121438e+02,  1.10818031e+01,  5.41584850e+02,\n",
       "        1.67806465e+02,  6.24999120e-01, -9.24210356e+01,  3.34375371e+02,\n",
       "        8.96503364e+01,  7.31870026e+01,  1.98025703e+03, -2.84725270e+03,\n",
       "       -1.83029697e+02,  4.09548423e+01,  1.94178597e+00,  3.34776024e+01,\n",
       "        6.12987190e+01])"
      ]
     },
     "execution_count": 21,
     "metadata": {},
     "output_type": "execute_result"
    }
   ],
   "source": [
    "coeffs"
   ]
  },
  {
   "cell_type": "code",
   "execution_count": 22,
   "id": "1a9efa21",
   "metadata": {
    "execution": {
     "iopub.execute_input": "2023-04-30T13:47:27.434056Z",
     "iopub.status.busy": "2023-04-30T13:47:27.433624Z",
     "iopub.status.idle": "2023-04-30T13:47:27.441267Z",
     "shell.execute_reply": "2023-04-30T13:47:27.439742Z"
    },
    "papermill": {
     "duration": 0.023701,
     "end_time": "2023-04-30T13:47:27.443498",
     "exception": false,
     "start_time": "2023-04-30T13:47:27.419797",
     "status": "completed"
    },
    "tags": []
   },
   "outputs": [
    {
     "name": "stdout",
     "output_type": "stream",
     "text": [
      "0.25062093777989436\n"
     ]
    }
   ],
   "source": [
    "Y_pred = X_test @ coeffs\n",
    "print(r2_score(Y_test,Y_pred))"
   ]
  },
  {
   "cell_type": "code",
   "execution_count": 23,
   "id": "c2aded98",
   "metadata": {
    "execution": {
     "iopub.execute_input": "2023-04-30T13:47:27.470253Z",
     "iopub.status.busy": "2023-04-30T13:47:27.469806Z",
     "iopub.status.idle": "2023-04-30T13:47:27.477490Z",
     "shell.execute_reply": "2023-04-30T13:47:27.476552Z"
    },
    "papermill": {
     "duration": 0.023779,
     "end_time": "2023-04-30T13:47:27.479764",
     "exception": false,
     "start_time": "2023-04-30T13:47:27.455985",
     "status": "completed"
    },
    "tags": []
   },
   "outputs": [
    {
     "data": {
      "text/plain": [
       "3803.522182180562"
      ]
     },
     "execution_count": 23,
     "metadata": {},
     "output_type": "execute_result"
    }
   ],
   "source": [
    "lin_rmse = mean_squared_error(Y_test , Y_pred , squared=False)\n",
    "lin_rmse"
   ]
  },
  {
   "cell_type": "markdown",
   "id": "93a788af",
   "metadata": {
    "papermill": {
     "duration": 0.012254,
     "end_time": "2023-04-30T13:47:27.504733",
     "exception": false,
     "start_time": "2023-04-30T13:47:27.492479",
     "status": "completed"
    },
    "tags": []
   },
   "source": [
    "# **Using Stepwise Regression**"
   ]
  },
  {
   "cell_type": "code",
   "execution_count": 24,
   "id": "293e36a7",
   "metadata": {
    "execution": {
     "iopub.execute_input": "2023-04-30T13:47:27.531926Z",
     "iopub.status.busy": "2023-04-30T13:47:27.531493Z",
     "iopub.status.idle": "2023-04-30T13:47:28.995916Z",
     "shell.execute_reply": "2023-04-30T13:47:28.994633Z"
    },
    "papermill": {
     "duration": 1.481724,
     "end_time": "2023-04-30T13:47:28.999058",
     "exception": false,
     "start_time": "2023-04-30T13:47:27.517334",
     "status": "completed"
    },
    "tags": []
   },
   "outputs": [],
   "source": [
    "import statsmodels.api as sm"
   ]
  },
  {
   "cell_type": "code",
   "execution_count": 25,
   "id": "cd6750c3",
   "metadata": {
    "execution": {
     "iopub.execute_input": "2023-04-30T13:47:29.027276Z",
     "iopub.status.busy": "2023-04-30T13:47:29.026813Z",
     "iopub.status.idle": "2023-04-30T13:47:29.033455Z",
     "shell.execute_reply": "2023-04-30T13:47:29.032221Z"
    },
    "papermill": {
     "duration": 0.023753,
     "end_time": "2023-04-30T13:47:29.035801",
     "exception": false,
     "start_time": "2023-04-30T13:47:29.012048",
     "status": "completed"
    },
    "tags": []
   },
   "outputs": [],
   "source": [
    "X = data.drop(['price','car_ID'] , axis=1)\n",
    "Y = data['price']"
   ]
  },
  {
   "cell_type": "code",
   "execution_count": 26,
   "id": "a71eb46d",
   "metadata": {
    "execution": {
     "iopub.execute_input": "2023-04-30T13:47:29.062890Z",
     "iopub.status.busy": "2023-04-30T13:47:29.062475Z",
     "iopub.status.idle": "2023-04-30T13:47:29.073955Z",
     "shell.execute_reply": "2023-04-30T13:47:29.072673Z"
    },
    "papermill": {
     "duration": 0.02807,
     "end_time": "2023-04-30T13:47:29.076465",
     "exception": false,
     "start_time": "2023-04-30T13:47:29.048395",
     "status": "completed"
    },
    "tags": []
   },
   "outputs": [],
   "source": [
    "X = sm.add_constant(X)"
   ]
  },
  {
   "cell_type": "code",
   "execution_count": 27,
   "id": "3f130832",
   "metadata": {
    "execution": {
     "iopub.execute_input": "2023-04-30T13:47:29.104307Z",
     "iopub.status.busy": "2023-04-30T13:47:29.103581Z",
     "iopub.status.idle": "2023-04-30T13:47:29.109023Z",
     "shell.execute_reply": "2023-04-30T13:47:29.108161Z"
    },
    "papermill": {
     "duration": 0.022652,
     "end_time": "2023-04-30T13:47:29.111642",
     "exception": false,
     "start_time": "2023-04-30T13:47:29.088990",
     "status": "completed"
    },
    "tags": []
   },
   "outputs": [],
   "source": [
    "X_train , Y_train , X_test , Y_test = X[:150] , Y[:150] , X[150:] , Y[150:]"
   ]
  },
  {
   "cell_type": "code",
   "execution_count": 28,
   "id": "b431408f",
   "metadata": {
    "execution": {
     "iopub.execute_input": "2023-04-30T13:47:29.138896Z",
     "iopub.status.busy": "2023-04-30T13:47:29.137802Z",
     "iopub.status.idle": "2023-04-30T13:47:29.145206Z",
     "shell.execute_reply": "2023-04-30T13:47:29.144251Z"
    },
    "papermill": {
     "duration": 0.023749,
     "end_time": "2023-04-30T13:47:29.147671",
     "exception": false,
     "start_time": "2023-04-30T13:47:29.123922",
     "status": "completed"
    },
    "tags": []
   },
   "outputs": [],
   "source": [
    "reg = sm.OLS(Y_train , X_train).fit()"
   ]
  },
  {
   "cell_type": "code",
   "execution_count": 29,
   "id": "dd15795c",
   "metadata": {
    "execution": {
     "iopub.execute_input": "2023-04-30T13:47:29.175026Z",
     "iopub.status.busy": "2023-04-30T13:47:29.174203Z",
     "iopub.status.idle": "2023-04-30T13:47:29.183619Z",
     "shell.execute_reply": "2023-04-30T13:47:29.182422Z"
    },
    "papermill": {
     "duration": 0.025965,
     "end_time": "2023-04-30T13:47:29.185982",
     "exception": false,
     "start_time": "2023-04-30T13:47:29.160017",
     "status": "completed"
    },
    "tags": []
   },
   "outputs": [
    {
     "data": {
      "text/plain": [
       "const              -69905.575624\n",
       "symboling             449.290984\n",
       "CarName               -54.142044\n",
       "fueltype            -4293.126534\n",
       "aspiration           -551.279674\n",
       "doornumber           -664.141488\n",
       "carbody              -710.263776\n",
       "drivewheel            855.811335\n",
       "enginelocation       9952.249833\n",
       "wheelbase             187.121438\n",
       "carlength              11.081803\n",
       "carwidth              541.584850\n",
       "carheight             167.806465\n",
       "curbweight              0.624999\n",
       "enginetype            -92.421036\n",
       "cylindernumber        334.375371\n",
       "enginesize             89.650336\n",
       "fuelsystem             73.187003\n",
       "boreratio            1980.257029\n",
       "stroke              -2847.252697\n",
       "compressionratio     -183.029697\n",
       "horsepower             40.954842\n",
       "peakrpm                 1.941786\n",
       "citympg                33.477602\n",
       "highwaympg             61.298719\n",
       "dtype: float64"
      ]
     },
     "execution_count": 29,
     "metadata": {},
     "output_type": "execute_result"
    }
   ],
   "source": [
    "reg.params"
   ]
  },
  {
   "cell_type": "code",
   "execution_count": 30,
   "id": "bec02aa5",
   "metadata": {
    "execution": {
     "iopub.execute_input": "2023-04-30T13:47:29.213115Z",
     "iopub.status.busy": "2023-04-30T13:47:29.212375Z",
     "iopub.status.idle": "2023-04-30T13:47:29.272404Z",
     "shell.execute_reply": "2023-04-30T13:47:29.270992Z"
    },
    "papermill": {
     "duration": 0.080403,
     "end_time": "2023-04-30T13:47:29.278865",
     "exception": false,
     "start_time": "2023-04-30T13:47:29.198462",
     "status": "completed"
    },
    "tags": []
   },
   "outputs": [
    {
     "data": {
      "text/html": [
       "<table class=\"simpletable\">\n",
       "<tr>\n",
       "        <td>Model:</td>               <td>OLS</td>         <td>Adj. R-squared:</td>      <td>0.905</td>  \n",
       "</tr>\n",
       "<tr>\n",
       "  <td>Dependent Variable:</td>       <td>price</td>             <td>AIC:</td>          <td>2822.7998</td>\n",
       "</tr>\n",
       "<tr>\n",
       "         <td>Date:</td>        <td>2023-04-30 13:47</td>        <td>BIC:</td>          <td>2898.0656</td>\n",
       "</tr>\n",
       "<tr>\n",
       "   <td>No. Observations:</td>         <td>150</td>         <td>Log-Likelihood:</td>     <td>-1386.4</td> \n",
       "</tr>\n",
       "<tr>\n",
       "       <td>Df Model:</td>             <td>24</td>           <td>F-statistic:</td>        <td>60.04</td>  \n",
       "</tr>\n",
       "<tr>\n",
       "     <td>Df Residuals:</td>           <td>125</td>       <td>Prob (F-statistic):</td>  <td>3.79e-57</td> \n",
       "</tr>\n",
       "<tr>\n",
       "      <td>R-squared:</td>            <td>0.920</td>            <td>Scale:</td>        <td>7.4952e+06</td>\n",
       "</tr>\n",
       "</table>\n",
       "<table class=\"simpletable\">\n",
       "<tr>\n",
       "          <td></td>            <th>Coef.</th>     <th>Std.Err.</th>     <th>t</th>     <th>P>|t|</th>    <th>[0.025</th>      <th>0.975]</th>   \n",
       "</tr>\n",
       "<tr>\n",
       "  <th>const</th>            <td>-69905.5756</td> <td>23081.4323</td> <td>-3.0286</td> <td>0.0030</td> <td>-115586.5947</td> <td>-24224.5565</td>\n",
       "</tr>\n",
       "<tr>\n",
       "  <th>symboling</th>         <td>449.2910</td>    <td>353.3903</td>  <td>1.2714</td>  <td>0.2060</td>   <td>-250.1123</td>   <td>1148.6942</td> \n",
       "</tr>\n",
       "<tr>\n",
       "  <th>CarName</th>           <td>-54.1420</td>     <td>9.6498</td>   <td>-5.6107</td> <td>0.0000</td>   <td>-73.2402</td>    <td>-35.0439</td>  \n",
       "</tr>\n",
       "<tr>\n",
       "  <th>fueltype</th>         <td>-4293.1265</td>   <td>8644.1033</td> <td>-0.4967</td> <td>0.6203</td>  <td>-21400.8799</td> <td>12814.6268</td> \n",
       "</tr>\n",
       "<tr>\n",
       "  <th>aspiration</th>        <td>-551.2797</td>   <td>1213.7797</td> <td>-0.4542</td> <td>0.6505</td>  <td>-2953.5003</td>   <td>1850.9410</td> \n",
       "</tr>\n",
       "<tr>\n",
       "  <th>doornumber</th>        <td>-664.1415</td>   <td>770.0404</td>  <td>-0.8625</td> <td>0.3901</td>  <td>-2188.1471</td>   <td>859.8641</td>  \n",
       "</tr>\n",
       "<tr>\n",
       "  <th>carbody</th>           <td>-710.2638</td>   <td>500.2049</td>  <td>-1.4199</td> <td>0.1581</td>  <td>-1700.2314</td>   <td>279.7038</td>  \n",
       "</tr>\n",
       "<tr>\n",
       "  <th>drivewheel</th>        <td>855.8113</td>    <td>680.6957</td>  <td>1.2573</td>  <td>0.2110</td>   <td>-491.3700</td>   <td>2202.9926</td> \n",
       "</tr>\n",
       "<tr>\n",
       "  <th>enginelocation</th>    <td>9952.2498</td>   <td>2297.0532</td> <td>4.3326</td>  <td>0.0000</td>   <td>5406.0965</td>  <td>14498.4031</td> \n",
       "</tr>\n",
       "<tr>\n",
       "  <th>wheelbase</th>         <td>187.1214</td>    <td>122.7973</td>  <td>1.5238</td>  <td>0.1301</td>   <td>-55.9096</td>    <td>430.1525</td>  \n",
       "</tr>\n",
       "<tr>\n",
       "  <th>carlength</th>          <td>11.0818</td>     <td>59.8786</td>  <td>0.1851</td>  <td>0.8535</td>   <td>-107.4254</td>   <td>129.5890</td>  \n",
       "</tr>\n",
       "<tr>\n",
       "  <th>carwidth</th>          <td>541.5848</td>    <td>300.4326</td>  <td>1.8027</td>  <td>0.0738</td>   <td>-53.0086</td>    <td>1136.1783</td> \n",
       "</tr>\n",
       "<tr>\n",
       "  <th>carheight</th>         <td>167.8065</td>    <td>161.3158</td>  <td>1.0402</td>  <td>0.3002</td>   <td>-151.4575</td>   <td>487.0704</td>  \n",
       "</tr>\n",
       "<tr>\n",
       "  <th>curbweight</th>         <td>0.6250</td>      <td>2.3952</td>   <td>0.2609</td>  <td>0.7946</td>    <td>-4.1154</td>     <td>5.3654</td>   \n",
       "</tr>\n",
       "<tr>\n",
       "  <th>enginetype</th>        <td>-92.4210</td>    <td>296.3279</td>  <td>-0.3119</td> <td>0.7556</td>   <td>-678.8907</td>   <td>494.0486</td>  \n",
       "</tr>\n",
       "<tr>\n",
       "  <th>cylindernumber</th>    <td>334.3754</td>    <td>402.2797</td>  <td>0.8312</td>  <td>0.4074</td>   <td>-461.7861</td>   <td>1130.5368</td> \n",
       "</tr>\n",
       "<tr>\n",
       "  <th>enginesize</th>         <td>89.6503</td>     <td>20.5263</td>  <td>4.3676</td>  <td>0.0000</td>    <td>49.0263</td>    <td>130.2744</td>  \n",
       "</tr>\n",
       "<tr>\n",
       "  <th>fuelsystem</th>         <td>73.1870</td>    <td>196.2928</td>  <td>0.3728</td>  <td>0.7099</td>   <td>-315.3009</td>   <td>461.6749</td>  \n",
       "</tr>\n",
       "<tr>\n",
       "  <th>boreratio</th>         <td>1980.2570</td>   <td>1487.0992</td> <td>1.3316</td>  <td>0.1854</td>   <td>-962.8969</td>   <td>4923.4109</td> \n",
       "</tr>\n",
       "<tr>\n",
       "  <th>stroke</th>           <td>-2847.2527</td>   <td>959.6440</td>  <td>-2.9670</td> <td>0.0036</td>  <td>-4746.5074</td>   <td>-947.9980</td> \n",
       "</tr>\n",
       "<tr>\n",
       "  <th>compressionratio</th>  <td>-183.0297</td>   <td>607.4537</td>  <td>-0.3013</td> <td>0.7637</td>  <td>-1385.2560</td>   <td>1019.1966</td> \n",
       "</tr>\n",
       "<tr>\n",
       "  <th>horsepower</th>         <td>40.9548</td>     <td>23.3237</td>  <td>1.7559</td>  <td>0.0815</td>    <td>-5.2057</td>     <td>87.1154</td>  \n",
       "</tr>\n",
       "<tr>\n",
       "  <th>peakrpm</th>            <td>1.9418</td>      <td>0.9542</td>   <td>2.0350</td>  <td>0.0440</td>    <td>0.0533</td>      <td>3.8303</td>   \n",
       "</tr>\n",
       "<tr>\n",
       "  <th>citympg</th>            <td>33.4776</td>    <td>206.2609</td>  <td>0.1623</td>  <td>0.8713</td>   <td>-374.7384</td>   <td>441.6936</td>  \n",
       "</tr>\n",
       "<tr>\n",
       "  <th>highwaympg</th>         <td>61.2987</td>    <td>207.4122</td>  <td>0.2955</td>  <td>0.7681</td>   <td>-349.1959</td>   <td>471.7933</td>  \n",
       "</tr>\n",
       "</table>\n",
       "<table class=\"simpletable\">\n",
       "<tr>\n",
       "     <td>Omnibus:</td>    <td>21.602</td>  <td>Durbin-Watson:</td>    <td>1.150</td>\n",
       "</tr>\n",
       "<tr>\n",
       "  <td>Prob(Omnibus):</td>  <td>0.000</td> <td>Jarque-Bera (JB):</td> <td>58.979</td>\n",
       "</tr>\n",
       "<tr>\n",
       "       <td>Skew:</td>      <td>0.511</td>     <td>Prob(JB):</td>      <td>0.000</td>\n",
       "</tr>\n",
       "<tr>\n",
       "     <td>Kurtosis:</td>    <td>5.897</td>  <td>Condition No.:</td>   <td>613574</td>\n",
       "</tr>\n",
       "</table>"
      ],
      "text/plain": [
       "<class 'statsmodels.iolib.summary2.Summary'>\n",
       "\"\"\"\n",
       "                        Results: Ordinary least squares\n",
       "===============================================================================\n",
       "Model:                  OLS                  Adj. R-squared:         0.905     \n",
       "Dependent Variable:     price                AIC:                    2822.7998 \n",
       "Date:                   2023-04-30 13:47     BIC:                    2898.0656 \n",
       "No. Observations:       150                  Log-Likelihood:         -1386.4   \n",
       "Df Model:               24                   F-statistic:            60.04     \n",
       "Df Residuals:           125                  Prob (F-statistic):     3.79e-57  \n",
       "R-squared:              0.920                Scale:                  7.4952e+06\n",
       "-------------------------------------------------------------------------------\n",
       "                    Coef.     Std.Err.     t    P>|t|     [0.025       0.975]  \n",
       "-------------------------------------------------------------------------------\n",
       "const            -69905.5756 23081.4323 -3.0286 0.0030 -115586.5947 -24224.5565\n",
       "symboling           449.2910   353.3903  1.2714 0.2060    -250.1123   1148.6942\n",
       "CarName             -54.1420     9.6498 -5.6107 0.0000     -73.2402    -35.0439\n",
       "fueltype          -4293.1265  8644.1033 -0.4967 0.6203  -21400.8799  12814.6268\n",
       "aspiration         -551.2797  1213.7797 -0.4542 0.6505   -2953.5003   1850.9410\n",
       "doornumber         -664.1415   770.0404 -0.8625 0.3901   -2188.1471    859.8641\n",
       "carbody            -710.2638   500.2049 -1.4199 0.1581   -1700.2314    279.7038\n",
       "drivewheel          855.8113   680.6957  1.2573 0.2110    -491.3700   2202.9926\n",
       "enginelocation     9952.2498  2297.0532  4.3326 0.0000    5406.0965  14498.4031\n",
       "wheelbase           187.1214   122.7973  1.5238 0.1301     -55.9096    430.1525\n",
       "carlength            11.0818    59.8786  0.1851 0.8535    -107.4254    129.5890\n",
       "carwidth            541.5848   300.4326  1.8027 0.0738     -53.0086   1136.1783\n",
       "carheight           167.8065   161.3158  1.0402 0.3002    -151.4575    487.0704\n",
       "curbweight            0.6250     2.3952  0.2609 0.7946      -4.1154      5.3654\n",
       "enginetype          -92.4210   296.3279 -0.3119 0.7556    -678.8907    494.0486\n",
       "cylindernumber      334.3754   402.2797  0.8312 0.4074    -461.7861   1130.5368\n",
       "enginesize           89.6503    20.5263  4.3676 0.0000      49.0263    130.2744\n",
       "fuelsystem           73.1870   196.2928  0.3728 0.7099    -315.3009    461.6749\n",
       "boreratio          1980.2570  1487.0992  1.3316 0.1854    -962.8969   4923.4109\n",
       "stroke            -2847.2527   959.6440 -2.9670 0.0036   -4746.5074   -947.9980\n",
       "compressionratio   -183.0297   607.4537 -0.3013 0.7637   -1385.2560   1019.1966\n",
       "horsepower           40.9548    23.3237  1.7559 0.0815      -5.2057     87.1154\n",
       "peakrpm               1.9418     0.9542  2.0350 0.0440       0.0533      3.8303\n",
       "citympg              33.4776   206.2609  0.1623 0.8713    -374.7384    441.6936\n",
       "highwaympg           61.2987   207.4122  0.2955 0.7681    -349.1959    471.7933\n",
       "-------------------------------------------------------------------------------\n",
       "Omnibus:                  21.602            Durbin-Watson:               1.150 \n",
       "Prob(Omnibus):            0.000             Jarque-Bera (JB):            58.979\n",
       "Skew:                     0.511             Prob(JB):                    0.000 \n",
       "Kurtosis:                 5.897             Condition No.:               613574\n",
       "===============================================================================\n",
       "* The condition number is large (6e+05). This might indicate             strong\n",
       "multicollinearity or other numerical problems.\n",
       "\"\"\""
      ]
     },
     "execution_count": 30,
     "metadata": {},
     "output_type": "execute_result"
    }
   ],
   "source": [
    "reg.summary2()"
   ]
  },
  {
   "cell_type": "code",
   "execution_count": 31,
   "id": "67cb20c1",
   "metadata": {
    "execution": {
     "iopub.execute_input": "2023-04-30T13:47:29.306296Z",
     "iopub.status.busy": "2023-04-30T13:47:29.305871Z",
     "iopub.status.idle": "2023-04-30T13:47:29.312929Z",
     "shell.execute_reply": "2023-04-30T13:47:29.311986Z"
    },
    "papermill": {
     "duration": 0.023287,
     "end_time": "2023-04-30T13:47:29.315061",
     "exception": false,
     "start_time": "2023-04-30T13:47:29.291774",
     "status": "completed"
    },
    "tags": []
   },
   "outputs": [
    {
     "data": {
      "text/plain": [
       "Index(['car_ID', 'symboling', 'CarName', 'fueltype', 'aspiration',\n",
       "       'doornumber', 'carbody', 'drivewheel', 'enginelocation', 'wheelbase',\n",
       "       'carlength', 'carwidth', 'carheight', 'curbweight', 'enginetype',\n",
       "       'cylindernumber', 'enginesize', 'fuelsystem', 'boreratio', 'stroke',\n",
       "       'compressionratio', 'horsepower', 'peakrpm', 'citympg', 'highwaympg',\n",
       "       'price'],\n",
       "      dtype='object')"
      ]
     },
     "execution_count": 31,
     "metadata": {},
     "output_type": "execute_result"
    }
   ],
   "source": [
    "data.columns"
   ]
  },
  {
   "cell_type": "code",
   "execution_count": 32,
   "id": "3d316670",
   "metadata": {
    "execution": {
     "iopub.execute_input": "2023-04-30T13:47:29.343493Z",
     "iopub.status.busy": "2023-04-30T13:47:29.342731Z",
     "iopub.status.idle": "2023-04-30T13:47:29.349865Z",
     "shell.execute_reply": "2023-04-30T13:47:29.348603Z"
    },
    "papermill": {
     "duration": 0.024359,
     "end_time": "2023-04-30T13:47:29.352492",
     "exception": false,
     "start_time": "2023-04-30T13:47:29.328133",
     "status": "completed"
    },
    "tags": []
   },
   "outputs": [],
   "source": [
    "X = data.drop(['price','car_ID','fueltype', 'aspiration',\n",
    "       'doornumber', 'enginelocation', 'symboling','carbody','carwidth',\n",
    "       'carlength',  'carheight', 'curbweight', 'enginetype',\n",
    "       'cylindernumber',  'fuelsystem', \n",
    "       'compressionratio', 'citympg', 'highwaympg'] , axis=1)\n",
    "Y = data['price']"
   ]
  },
  {
   "cell_type": "code",
   "execution_count": 33,
   "id": "6da468a0",
   "metadata": {
    "execution": {
     "iopub.execute_input": "2023-04-30T13:47:29.380537Z",
     "iopub.status.busy": "2023-04-30T13:47:29.380042Z",
     "iopub.status.idle": "2023-04-30T13:47:29.428506Z",
     "shell.execute_reply": "2023-04-30T13:47:29.427488Z"
    },
    "papermill": {
     "duration": 0.065259,
     "end_time": "2023-04-30T13:47:29.430904",
     "exception": false,
     "start_time": "2023-04-30T13:47:29.365645",
     "status": "completed"
    },
    "tags": []
   },
   "outputs": [
    {
     "data": {
      "text/html": [
       "<table class=\"simpletable\">\n",
       "<tr>\n",
       "        <td>Model:</td>               <td>OLS</td>         <td>Adj. R-squared:</td>      <td>0.880</td>  \n",
       "</tr>\n",
       "<tr>\n",
       "  <td>Dependent Variable:</td>       <td>price</td>             <td>AIC:</td>          <td>2843.8757</td>\n",
       "</tr>\n",
       "<tr>\n",
       "         <td>Date:</td>        <td>2023-04-30 13:47</td>        <td>BIC:</td>          <td>2870.9714</td>\n",
       "</tr>\n",
       "<tr>\n",
       "   <td>No. Observations:</td>         <td>150</td>         <td>Log-Likelihood:</td>     <td>-1412.9</td> \n",
       "</tr>\n",
       "<tr>\n",
       "       <td>Df Model:</td>              <td>8</td>           <td>F-statistic:</td>        <td>137.4</td>  \n",
       "</tr>\n",
       "<tr>\n",
       "     <td>Df Residuals:</td>           <td>141</td>       <td>Prob (F-statistic):</td>  <td>1.21e-62</td> \n",
       "</tr>\n",
       "<tr>\n",
       "      <td>R-squared:</td>            <td>0.886</td>            <td>Scale:</td>        <td>9.4656e+06</td>\n",
       "</tr>\n",
       "</table>\n",
       "<table class=\"simpletable\">\n",
       "<tr>\n",
       "       <td></td>         <th>Coef.</th>    <th>Std.Err.</th>     <th>t</th>     <th>P>|t|</th>   <th>[0.025</th>      <th>0.975]</th>   \n",
       "</tr>\n",
       "<tr>\n",
       "  <th>const</th>      <td>-36827.6489</td> <td>8697.7302</td> <td>-4.2342</td> <td>0.0000</td> <td>-54022.4657</td> <td>-19632.8321</td>\n",
       "</tr>\n",
       "<tr>\n",
       "  <th>CarName</th>     <td>-45.1596</td>    <td>9.8824</td>   <td>-4.5697</td> <td>0.0000</td>  <td>-64.6965</td>    <td>-25.6228</td>  \n",
       "</tr>\n",
       "<tr>\n",
       "  <th>drivewheel</th>  <td>2079.8084</td>  <td>576.0150</td>  <td>3.6107</td>  <td>0.0004</td>  <td>941.0663</td>    <td>3218.5505</td> \n",
       "</tr>\n",
       "<tr>\n",
       "  <th>wheelbase</th>   <td>196.2648</td>    <td>54.1528</td>  <td>3.6243</td>  <td>0.0004</td>   <td>89.2084</td>    <td>303.3213</td>  \n",
       "</tr>\n",
       "<tr>\n",
       "  <th>enginesize</th>  <td>103.3806</td>    <td>13.9523</td>  <td>7.4096</td>  <td>0.0000</td>   <td>75.7977</td>    <td>130.9634</td>  \n",
       "</tr>\n",
       "<tr>\n",
       "  <th>boreratio</th>   <td>3228.2938</td>  <td>1515.1084</td> <td>2.1307</td>  <td>0.0348</td>  <td>233.0283</td>    <td>6223.5592</td> \n",
       "</tr>\n",
       "<tr>\n",
       "  <th>stroke</th>     <td>-2794.2314</td>  <td>783.8973</td>  <td>-3.5645</td> <td>0.0005</td> <td>-4343.9428</td>  <td>-1244.5201</td> \n",
       "</tr>\n",
       "<tr>\n",
       "  <th>horsepower</th>   <td>46.7343</td>    <td>14.8118</td>  <td>3.1552</td>  <td>0.0020</td>   <td>17.4523</td>     <td>76.0162</td>  \n",
       "</tr>\n",
       "<tr>\n",
       "  <th>peakrpm</th>      <td>2.2040</td>     <td>0.8263</td>   <td>2.6673</td>  <td>0.0085</td>   <td>0.5705</td>      <td>3.8376</td>   \n",
       "</tr>\n",
       "</table>\n",
       "<table class=\"simpletable\">\n",
       "<tr>\n",
       "     <td>Omnibus:</td>    <td>8.276</td>  <td>Durbin-Watson:</td>    <td>1.255</td>\n",
       "</tr>\n",
       "<tr>\n",
       "  <td>Prob(Omnibus):</td> <td>0.016</td> <td>Jarque-Bera (JB):</td> <td>13.300</td>\n",
       "</tr>\n",
       "<tr>\n",
       "       <td>Skew:</td>     <td>0.231</td>     <td>Prob(JB):</td>      <td>0.001</td>\n",
       "</tr>\n",
       "<tr>\n",
       "     <td>Kurtosis:</td>   <td>4.384</td>  <td>Condition No.:</td>   <td>180635</td>\n",
       "</tr>\n",
       "</table>"
      ],
      "text/plain": [
       "<class 'statsmodels.iolib.summary2.Summary'>\n",
       "\"\"\"\n",
       "                    Results: Ordinary least squares\n",
       "=======================================================================\n",
       "Model:                OLS               Adj. R-squared:      0.880     \n",
       "Dependent Variable:   price             AIC:                 2843.8757 \n",
       "Date:                 2023-04-30 13:47  BIC:                 2870.9714 \n",
       "No. Observations:     150               Log-Likelihood:      -1412.9   \n",
       "Df Model:             8                 F-statistic:         137.4     \n",
       "Df Residuals:         141               Prob (F-statistic):  1.21e-62  \n",
       "R-squared:            0.886             Scale:               9.4656e+06\n",
       "-----------------------------------------------------------------------\n",
       "              Coef.     Std.Err.    t    P>|t|     [0.025      0.975]  \n",
       "-----------------------------------------------------------------------\n",
       "const      -36827.6489 8697.7302 -4.2342 0.0000 -54022.4657 -19632.8321\n",
       "CarName       -45.1596    9.8824 -4.5697 0.0000    -64.6965    -25.6228\n",
       "drivewheel   2079.8084  576.0150  3.6107 0.0004    941.0663   3218.5505\n",
       "wheelbase     196.2648   54.1528  3.6243 0.0004     89.2084    303.3213\n",
       "enginesize    103.3806   13.9523  7.4096 0.0000     75.7977    130.9634\n",
       "boreratio    3228.2938 1515.1084  2.1307 0.0348    233.0283   6223.5592\n",
       "stroke      -2794.2314  783.8973 -3.5645 0.0005  -4343.9428  -1244.5201\n",
       "horsepower     46.7343   14.8118  3.1552 0.0020     17.4523     76.0162\n",
       "peakrpm         2.2040    0.8263  2.6673 0.0085      0.5705      3.8376\n",
       "-----------------------------------------------------------------------\n",
       "Omnibus:                 8.276         Durbin-Watson:            1.255 \n",
       "Prob(Omnibus):           0.016         Jarque-Bera (JB):         13.300\n",
       "Skew:                    0.231         Prob(JB):                 0.001 \n",
       "Kurtosis:                4.384         Condition No.:            180635\n",
       "=======================================================================\n",
       "* The condition number is large (2e+05). This might indicate\n",
       "strong multicollinearity or other numerical problems.\n",
       "\"\"\""
      ]
     },
     "execution_count": 33,
     "metadata": {},
     "output_type": "execute_result"
    }
   ],
   "source": [
    "X = sm.add_constant(X)\n",
    "X_train , Y_train , X_test , Y_test = X[:150] , Y[:150] , X[150:] , Y[150:]\n",
    "reg = sm.OLS(Y_train , X_train).fit()\n",
    "reg.summary2()"
   ]
  },
  {
   "cell_type": "code",
   "execution_count": 34,
   "id": "60164ba4",
   "metadata": {
    "execution": {
     "iopub.execute_input": "2023-04-30T13:47:29.461184Z",
     "iopub.status.busy": "2023-04-30T13:47:29.459942Z",
     "iopub.status.idle": "2023-04-30T13:47:29.465742Z",
     "shell.execute_reply": "2023-04-30T13:47:29.464900Z"
    },
    "papermill": {
     "duration": 0.023128,
     "end_time": "2023-04-30T13:47:29.467917",
     "exception": false,
     "start_time": "2023-04-30T13:47:29.444789",
     "status": "completed"
    },
    "tags": []
   },
   "outputs": [],
   "source": [
    "Y_pred = reg.predict(X_test)"
   ]
  },
  {
   "cell_type": "code",
   "execution_count": 35,
   "id": "42eae99d",
   "metadata": {
    "execution": {
     "iopub.execute_input": "2023-04-30T13:47:29.496860Z",
     "iopub.status.busy": "2023-04-30T13:47:29.496144Z",
     "iopub.status.idle": "2023-04-30T13:47:29.503985Z",
     "shell.execute_reply": "2023-04-30T13:47:29.502866Z"
    },
    "papermill": {
     "duration": 0.025125,
     "end_time": "2023-04-30T13:47:29.506332",
     "exception": false,
     "start_time": "2023-04-30T13:47:29.481207",
     "status": "completed"
    },
    "tags": []
   },
   "outputs": [
    {
     "data": {
      "text/plain": [
       "4321.13012382152"
      ]
     },
     "execution_count": 35,
     "metadata": {},
     "output_type": "execute_result"
    }
   ],
   "source": [
    "lin_rmse = mean_squared_error(Y_test , Y_pred , squared=False)\n",
    "lin_rmse"
   ]
  },
  {
   "cell_type": "code",
   "execution_count": 36,
   "id": "9cca5bd3",
   "metadata": {
    "execution": {
     "iopub.execute_input": "2023-04-30T13:47:29.535752Z",
     "iopub.status.busy": "2023-04-30T13:47:29.534609Z",
     "iopub.status.idle": "2023-04-30T13:47:29.542750Z",
     "shell.execute_reply": "2023-04-30T13:47:29.541532Z"
    },
    "papermill": {
     "duration": 0.025717,
     "end_time": "2023-04-30T13:47:29.545413",
     "exception": false,
     "start_time": "2023-04-30T13:47:29.519696",
     "status": "completed"
    },
    "tags": []
   },
   "outputs": [],
   "source": [
    "X = data.drop(['price','car_ID','fueltype', 'aspiration',\n",
    "       'doornumber', 'enginelocation', 'symboling','carbody','carwidth',\n",
    "       'carlength',  'carheight', 'curbweight', 'enginetype',\n",
    "       'cylindernumber',  'fuelsystem', \n",
    "       'compressionratio', 'citympg', 'highwaympg'] , axis=1)\n",
    "Y = data['price']"
   ]
  },
  {
   "cell_type": "code",
   "execution_count": 37,
   "id": "b07aa169",
   "metadata": {
    "execution": {
     "iopub.execute_input": "2023-04-30T13:47:29.574625Z",
     "iopub.status.busy": "2023-04-30T13:47:29.574176Z",
     "iopub.status.idle": "2023-04-30T13:47:29.580716Z",
     "shell.execute_reply": "2023-04-30T13:47:29.579232Z"
    },
    "papermill": {
     "duration": 0.023925,
     "end_time": "2023-04-30T13:47:29.583111",
     "exception": false,
     "start_time": "2023-04-30T13:47:29.559186",
     "status": "completed"
    },
    "tags": []
   },
   "outputs": [],
   "source": [
    "X_train , Y_train , X_test , Y_test = X[:150] , Y[:150] , X[150:] , Y[150:]"
   ]
  },
  {
   "cell_type": "code",
   "execution_count": 38,
   "id": "50adb103",
   "metadata": {
    "execution": {
     "iopub.execute_input": "2023-04-30T13:47:29.612937Z",
     "iopub.status.busy": "2023-04-30T13:47:29.612502Z",
     "iopub.status.idle": "2023-04-30T13:47:30.056865Z",
     "shell.execute_reply": "2023-04-30T13:47:30.055460Z"
    },
    "papermill": {
     "duration": 0.46235,
     "end_time": "2023-04-30T13:47:30.059575",
     "exception": false,
     "start_time": "2023-04-30T13:47:29.597225",
     "status": "completed"
    },
    "tags": []
   },
   "outputs": [
    {
     "data": {
      "text/plain": [
       "RandomForestRegressor()"
      ]
     },
     "execution_count": 38,
     "metadata": {},
     "output_type": "execute_result"
    }
   ],
   "source": [
    "from sklearn.ensemble import RandomForestRegressor\n",
    "reg = RandomForestRegressor()\n",
    "reg.fit(X_train , Y_train)"
   ]
  },
  {
   "cell_type": "code",
   "execution_count": 39,
   "id": "1f700898",
   "metadata": {
    "execution": {
     "iopub.execute_input": "2023-04-30T13:47:30.088853Z",
     "iopub.status.busy": "2023-04-30T13:47:30.088450Z",
     "iopub.status.idle": "2023-04-30T13:47:30.110262Z",
     "shell.execute_reply": "2023-04-30T13:47:30.109410Z"
    },
    "papermill": {
     "duration": 0.039213,
     "end_time": "2023-04-30T13:47:30.112620",
     "exception": false,
     "start_time": "2023-04-30T13:47:30.073407",
     "status": "completed"
    },
    "tags": []
   },
   "outputs": [
    {
     "data": {
      "text/plain": [
       "2486.0490798628466"
      ]
     },
     "execution_count": 39,
     "metadata": {},
     "output_type": "execute_result"
    }
   ],
   "source": [
    "Y_pred = reg.predict(X_test)\n",
    "lin_rmse = mean_squared_error(Y_test , Y_pred , squared=False)\n",
    "lin_rmse"
   ]
  },
  {
   "cell_type": "code",
   "execution_count": 40,
   "id": "fa76cbc0",
   "metadata": {
    "execution": {
     "iopub.execute_input": "2023-04-30T13:47:30.142510Z",
     "iopub.status.busy": "2023-04-30T13:47:30.142031Z",
     "iopub.status.idle": "2023-04-30T13:47:30.148634Z",
     "shell.execute_reply": "2023-04-30T13:47:30.147616Z"
    },
    "papermill": {
     "duration": 0.024358,
     "end_time": "2023-04-30T13:47:30.150939",
     "exception": false,
     "start_time": "2023-04-30T13:47:30.126581",
     "status": "completed"
    },
    "tags": []
   },
   "outputs": [],
   "source": [
    "X = data.drop(['price','car_ID'] , axis=1)\n",
    "Y = data['price']"
   ]
  },
  {
   "cell_type": "code",
   "execution_count": 41,
   "id": "72a29e8f",
   "metadata": {
    "execution": {
     "iopub.execute_input": "2023-04-30T13:47:30.180535Z",
     "iopub.status.busy": "2023-04-30T13:47:30.179841Z",
     "iopub.status.idle": "2023-04-30T13:47:30.350642Z",
     "shell.execute_reply": "2023-04-30T13:47:30.349249Z"
    },
    "papermill": {
     "duration": 0.188274,
     "end_time": "2023-04-30T13:47:30.353165",
     "exception": false,
     "start_time": "2023-04-30T13:47:30.164891",
     "status": "completed"
    },
    "tags": []
   },
   "outputs": [
    {
     "data": {
      "text/plain": [
       "RandomForestRegressor()"
      ]
     },
     "execution_count": 41,
     "metadata": {},
     "output_type": "execute_result"
    }
   ],
   "source": [
    "from sklearn.ensemble import RandomForestRegressor\n",
    "reg = RandomForestRegressor()\n",
    "reg.fit(X_train , Y_train)"
   ]
  },
  {
   "cell_type": "code",
   "execution_count": 42,
   "id": "3d0d8e6d",
   "metadata": {
    "execution": {
     "iopub.execute_input": "2023-04-30T13:47:30.382871Z",
     "iopub.status.busy": "2023-04-30T13:47:30.382454Z",
     "iopub.status.idle": "2023-04-30T13:47:30.404536Z",
     "shell.execute_reply": "2023-04-30T13:47:30.403363Z"
    },
    "papermill": {
     "duration": 0.040059,
     "end_time": "2023-04-30T13:47:30.407135",
     "exception": false,
     "start_time": "2023-04-30T13:47:30.367076",
     "status": "completed"
    },
    "tags": []
   },
   "outputs": [
    {
     "data": {
      "text/plain": [
       "2576.0273570185022"
      ]
     },
     "execution_count": 42,
     "metadata": {},
     "output_type": "execute_result"
    }
   ],
   "source": [
    "Y_pred = reg.predict(X_test)\n",
    "lin_rmse = mean_squared_error(Y_test , Y_pred , squared=False)\n",
    "lin_rmse"
   ]
  }
 ],
 "metadata": {
  "kernelspec": {
   "display_name": "Python 3",
   "language": "python",
   "name": "python3"
  },
  "language_info": {
   "codemirror_mode": {
    "name": "ipython",
    "version": 3
   },
   "file_extension": ".py",
   "mimetype": "text/x-python",
   "name": "python",
   "nbconvert_exporter": "python",
   "pygments_lexer": "ipython3",
   "version": "3.7.12"
  },
  "papermill": {
   "default_parameters": {},
   "duration": 17.912809,
   "end_time": "2023-04-30T13:47:31.243523",
   "environment_variables": {},
   "exception": null,
   "input_path": "__notebook__.ipynb",
   "output_path": "__notebook__.ipynb",
   "parameters": {},
   "start_time": "2023-04-30T13:47:13.330714",
   "version": "2.4.0"
  }
 },
 "nbformat": 4,
 "nbformat_minor": 5
}
